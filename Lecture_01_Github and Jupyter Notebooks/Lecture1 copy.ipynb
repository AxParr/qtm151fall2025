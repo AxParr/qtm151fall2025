{
 "cells": [
  {
   "attachments": {},
   "cell_type": "markdown",
   "metadata": {},
   "source": [
    "# <span style=\"color:darkblue\" fontsize = 500> Lecture 1: Introduction to Jupyter Notebooks </span>"
   ]
  },
  {
   "cell_type": "markdown",
   "metadata": {},
   "source": [
    "<font size=\"5\"> \n",
    "\n",
    "The basic structure for running Python for data projects\n",
    "<img src=\"figures/project_flow.png\" alt=\"drawing\" width=\"650\"/>\n",
    "- Python is a general purpose language\n",
    "- Researchers and practitioners add new functionalities all the time\n",
    "- New features are included as libraries on top of the \"basic\" installation\n",
    "\n",
    "***"
   ]
  },
  {
   "cell_type": "markdown",
   "metadata": {},
   "source": [
    "# <span style=\"color:darkblue\"> STEP 0: Preliminaries </span>\n",
    "\n",
    "<font size=\"5\"> \n",
    "\n",
    "- A Virtual Environment is an isolated **directory/workspace** (folder in your computer) <br>\n",
    "that contains a specific **collection of packages**\n",
    "\n",
    "- A package is a folder containing a set of Python scripts or <br>\n",
    "modules which allow you to accomplish a defined task <br> \n",
    "(visualization, analysis, mathematical operations, etc.)"
   ]
  },
  {
   "cell_type": "markdown",
   "metadata": {},
   "source": [
    "<font size = \"5\">\n",
    "\n",
    "To manage packages open \"Anaconda Navigator\" on your <br>\n",
    "computer and go to the \"Environment\" Tab"
   ]
  },
  {
   "cell_type": "markdown",
   "metadata": {},
   "source": [
    "<img src=\"figures/anaconda_navigator_installed.png\" alt=\"drawing\" width=\"650\"/>"
   ]
  },
  {
   "cell_type": "markdown",
   "metadata": {},
   "source": [
    "<font size = \"5\">\n",
    "\n",
    "In the future, as your data analysis needs expand, <br>\n",
    "you way want to click on the \"Not installed\" packages <br>\n",
    "to download cool new packages!"
   ]
  },
  {
   "cell_type": "markdown",
   "metadata": {},
   "source": [
    "<img src=\"figures/anaconda_navigator_notinstalled.png\" alt=\"drawing\" width=\"650\"/>"
   ]
  },
  {
   "cell_type": "markdown",
   "metadata": {},
   "source": [
    "<font size = \"5\">\n",
    "\n",
    "Note: Anaconda does not list the default packages in <br>\n",
    "Python's **standard** library.  You have access to these too!<br>\n",
    "See [The Python Standard Library](https://docs.python.org/3/library/index.html) to see what's included. "
   ]
  },
  {
   "cell_type": "markdown",
   "metadata": {},
   "source": [
    "# <span style=\"color:darkblue\"> STEP 1: Setup Working Environment </span>\n",
    "\n",
    "<font size=\"5\"> \n",
    "\n",
    "(a) Double Check that Python is linked to VS Code\n",
    "\n",
    "<img src=\"figures/python_kernel.png\" alt=\"drawing\" width=\"650\"/>\n",
    "\n",
    "- If not already linked, it will say \"Select Kernel\"\n",
    "- Click button, choose \"Python Environments\", then select <br>\n",
    "the version of Python that contains the word \"anaconda\"\n"
   ]
  },
  {
   "cell_type": "markdown",
   "metadata": {},
   "source": [
    "<font size=\"5\"> \n",
    "\n",
    "(b) Try some basic Python commands\n",
    "- use \"print\" to display a message and some basic calculations"
   ]
  },
  {
   "cell_type": "code",
   "execution_count": null,
   "metadata": {},
   "outputs": [
    {
     "name": "stdout",
     "output_type": "stream",
     "text": [
      "Hello World!\n",
      "5\n",
      "12\n",
      "8\n"
     ]
    }
   ],
   "source": [
    "print(\"Hello World!\")\n",
    "print(2 + 3)\n",
    "print(3*4)\n",
    "print(2**3) # 2 raised to the third power"
   ]
  },
  {
   "cell_type": "markdown",
   "metadata": {},
   "source": [
    "### Let's try and compute $\\log_2(8)$ (which equals 3). \n",
    "### We will get our first error message!"
   ]
  },
  {
   "cell_type": "code",
   "execution_count": 2,
   "metadata": {},
   "outputs": [
    {
     "ename": "NameError",
     "evalue": "name 'log2' is not defined",
     "output_type": "error",
     "traceback": [
      "\u001b[0;31m---------------------------------------------------------------------------\u001b[0m",
      "\u001b[0;31mNameError\u001b[0m                                 Traceback (most recent call last)",
      "Cell \u001b[0;32mIn[2], line 1\u001b[0m\n\u001b[0;32m----> 1\u001b[0m \u001b[38;5;28mprint\u001b[39m(log2(\u001b[38;5;241m8\u001b[39m))\n",
      "\u001b[0;31mNameError\u001b[0m: name 'log2' is not defined"
     ]
    }
   ],
   "source": [
    "print(log2(8))"
   ]
  },
  {
   "cell_type": "markdown",
   "metadata": {},
   "source": [
    "<font size = \"5\">\n",
    "\n",
    "(c) Import Packages (a.k.a. libraries):\n",
    "\n",
    "- Jupyter notebooks launches with very basic options\n",
    "- The \"import\" command adds libraries to the working enviroment. \n",
    "- Once imported, use \".\" to run subcommands contained in the library"
   ]
  },
  {
   "cell_type": "code",
   "execution_count": 3,
   "metadata": {},
   "outputs": [
    {
     "name": "stdout",
     "output_type": "stream",
     "text": [
      "3.0\n"
     ]
    }
   ],
   "source": [
    "import math\n",
    "print(math.log2(8))"
   ]
  },
  {
   "cell_type": "code",
   "execution_count": 4,
   "metadata": {},
   "outputs": [
    {
     "data": {
      "text/plain": [
       "4.0"
      ]
     },
     "execution_count": 4,
     "metadata": {},
     "output_type": "execute_result"
    }
   ],
   "source": [
    "math.log2(16)\n"
   ]
  },
  {
   "cell_type": "markdown",
   "metadata": {},
   "source": [
    "### Let's import the \"statistics\" library"
   ]
  },
  {
   "cell_type": "code",
   "execution_count": 5,
   "metadata": {},
   "outputs": [
    {
     "name": "stdout",
     "output_type": "stream",
     "text": [
      "5.428571428571429\n",
      "5\n",
      "3.795163026589841\n"
     ]
    }
   ],
   "source": [
    "import statistics\n",
    "\n",
    "print(statistics.mean([1, 7, 3, 5, 9, 1, 12]))\n",
    "print(statistics.median([1, 7, 3, 5, 9, 1, 12]))\n",
    "print(statistics.geometric_mean([1, 7, 3, 5, 9, 1, 12]))"
   ]
  },
  {
   "cell_type": "code",
   "execution_count": 7,
   "metadata": {},
   "outputs": [
    {
     "name": "stdout",
     "output_type": "stream",
     "text": [
      "5.428571428571429\n"
     ]
    }
   ],
   "source": [
    "print(stats.mean([1, 7, 3, 5, 9, 1, 12]))"
   ]
  },
  {
   "cell_type": "markdown",
   "metadata": {},
   "source": [
    "<font size = \"5\">\n",
    "\n",
    "(d) Import Packages with nicknames:\n",
    "\n",
    "- Typing \"statistics\" every single time you use that package can be a pain\n",
    "- To create nice plots, we will be using `matplotlib.pyplot` - long name!\n",
    "- Luckily, we can give the libraries a nickname with \"as\"\n",
    "- We will also use `pandas` - library for working with datasets"
   ]
  },
  {
   "cell_type": "code",
   "execution_count": 6,
   "metadata": {},
   "outputs": [
    {
     "name": "stderr",
     "output_type": "stream",
     "text": [
      "2025-09-08 12:11:01.364 system_profiler[89980:2869884] CoreText note: Client requested name \".AlBayanPUA\", it will get Times-Roman rather than the intended font. All system UI font access should be through proper APIs such as CTFontCreateUIFontForLanguage() or +[NSFont systemFontOfSize:].\n",
      "2025-09-08 12:11:01.364 system_profiler[89980:2869884] CoreText note: Set a breakpoint on CTFontLogSystemFontNameRequest to debug.\n",
      "2025-09-08 12:11:01.369 system_profiler[89980:2869884] CoreText note: Client requested name \".AlBayanPUA-Bold\", it will get Times-Roman rather than the intended font. All system UI font access should be through proper APIs such as CTFontCreateUIFontForLanguage() or +[NSFont systemFontOfSize:].\n",
      "2025-09-08 12:11:01.373 system_profiler[89980:2869884] CoreText note: Client requested name \".AlNilePUA\", it will get Times-Roman rather than the intended font. All system UI font access should be through proper APIs such as CTFontCreateUIFontForLanguage() or +[NSFont systemFontOfSize:].\n",
      "2025-09-08 12:11:01.376 system_profiler[89980:2869884] CoreText note: Client requested name \".AlNilePUA-Bold\", it will get Times-Roman rather than the intended font. All system UI font access should be through proper APIs such as CTFontCreateUIFontForLanguage() or +[NSFont systemFontOfSize:].\n",
      "2025-09-08 12:11:01.379 system_profiler[89980:2869884] CoreText note: Client requested name \".AlTarikhPUA\", it will get Times-Roman rather than the intended font. All system UI font access should be through proper APIs such as CTFontCreateUIFontForLanguage() or +[NSFont systemFontOfSize:].\n",
      "2025-09-08 12:11:01.382 system_profiler[89980:2869884] CoreText note: Client requested name \".AppleColorEmojiUI\", it will get Times-Roman rather than the intended font. All system UI font access should be through proper APIs such as CTFontCreateUIFontForLanguage() or +[NSFont systemFontOfSize:].\n",
      "2025-09-08 12:11:01.386 system_profiler[89980:2869884] CoreText note: Client requested name \".AppleSDGothicNeoI-Regular\", it will get Times-Roman rather than the intended font. All system UI font access should be through proper APIs such as CTFontCreateUIFontForLanguage() or +[NSFont systemFontOfSize:].\n",
      "2025-09-08 12:11:01.392 system_profiler[89980:2869884] CoreText note: Client requested name \".AppleSDGothicNeoI-Medium\", it will get Times-Roman rather than the intended font. All system UI font access should be through proper APIs such as CTFontCreateUIFontForLanguage() or +[NSFont systemFontOfSize:].\n",
      "2025-09-08 12:11:01.395 system_profiler[89980:2869884] CoreText note: Client requested name \".AppleSDGothicNeoI-Light\", it will get Times-Roman rather than the intended font. All system UI font access should be through proper APIs such as CTFontCreateUIFontForLanguage() or +[NSFont systemFontOfSize:].\n",
      "2025-09-08 12:11:01.398 system_profiler[89980:2869884] CoreText note: Client requested name \".AppleSDGothicNeoI-UltraLight\", it will get Times-Roman rather than the intended font. All system UI font access should be through proper APIs such as CTFontCreateUIFontForLanguage() or +[NSFont systemFontOfSize:].\n",
      "2025-09-08 12:11:01.401 system_profiler[89980:2869884] CoreText note: Client requested name \".AppleSDGothicNeoI-Thin\", it will get Times-Roman rather than the intended font. All system UI font access should be through proper APIs such as CTFontCreateUIFontForLanguage() or +[NSFont systemFontOfSize:].\n",
      "2025-09-08 12:11:01.404 system_profiler[89980:2869884] CoreText note: Client requested name \".AppleSDGothicNeoI-SemiBold\", it will get Times-Roman rather than the intended font. All system UI font access should be through proper APIs such as CTFontCreateUIFontForLanguage() or +[NSFont systemFontOfSize:].\n",
      "2025-09-08 12:11:01.409 system_profiler[89980:2869884] CoreText note: Client requested name \".AppleSDGothicNeoI-Bold\", it will get Times-Roman rather than the intended font. All system UI font access should be through proper APIs such as CTFontCreateUIFontForLanguage() or +[NSFont systemFontOfSize:].\n",
      "2025-09-08 12:11:01.411 system_profiler[89980:2869884] CoreText note: Client requested name \".AppleSDGothicNeoI-ExtraBold\", it will get Times-Roman rather than the intended font. All system UI font access should be through proper APIs such as CTFontCreateUIFontForLanguage() or +[NSFont systemFontOfSize:].\n",
      "2025-09-08 12:11:01.414 system_profiler[89980:2869884] CoreText note: Client requested name \".AppleSDGothicNeoI-Heavy\", it will get Times-Roman rather than the intended font. All system UI font access should be through proper APIs such as CTFontCreateUIFontForLanguage() or +[NSFont systemFontOfSize:].\n",
      "2025-09-08 12:11:01.453 system_profiler[89980:2869884] CoreText note: Client requested name \".ArabicUIDisplay-Regular\", it will get Times-Roman rather than the intended font. All system UI font access should be through proper APIs such as CTFontCreateUIFontForLanguage() or +[NSFont systemFontOfSize:].\n",
      "2025-09-08 12:11:01.458 system_profiler[89980:2869884] CoreText note: Client requested name \".ArabicUIDisplay-Medium\", it will get Times-Roman rather than the intended font. All system UI font access should be through proper APIs such as CTFontCreateUIFontForLanguage() or +[NSFont systemFontOfSize:].\n",
      "2025-09-08 12:11:01.462 system_profiler[89980:2869884] CoreText note: Client requested name \".ArabicUIDisplay-Light\", it will get Times-Roman rather than the intended font. All system UI font access should be through proper APIs such as CTFontCreateUIFontForLanguage() or +[NSFont systemFontOfSize:].\n",
      "2025-09-08 12:11:01.465 system_profiler[89980:2869884] CoreText note: Client requested name \".ArabicUIDisplay-Thin\", it will get Times-Roman rather than the intended font. All system UI font access should be through proper APIs such as CTFontCreateUIFontForLanguage() or +[NSFont systemFontOfSize:].\n",
      "2025-09-08 12:11:01.468 system_profiler[89980:2869884] CoreText note: Client requested name \".ArabicUIDisplay-Ultralight\", it will get Times-Roman rather than the intended font. All system UI font access should be through proper APIs such as CTFontCreateUIFontForLanguage() or +[NSFont systemFontOfSize:].\n",
      "2025-09-08 12:11:01.472 system_profiler[89980:2869884] CoreText note: Client requested name \".ArabicUIDisplay-Semibold\", it will get Times-Roman rather than the intended font. All system UI font access should be through proper APIs such as CTFontCreateUIFontForLanguage() or +[NSFont systemFontOfSize:].\n",
      "2025-09-08 12:11:01.475 system_profiler[89980:2869884] CoreText note: Client requested name \".ArabicUIDisplay-Bold\", it will get Times-Roman rather than the intended font. All system UI font access should be through proper APIs such as CTFontCreateUIFontForLanguage() or +[NSFont systemFontOfSize:].\n",
      "2025-09-08 12:11:01.478 system_profiler[89980:2869884] CoreText note: Client requested name \".ArabicUIDisplay-Heavy\", it will get Times-Roman rather than the intended font. All system UI font access should be through proper APIs such as CTFontCreateUIFontForLanguage() or +[NSFont systemFontOfSize:].\n",
      "2025-09-08 12:11:01.481 system_profiler[89980:2869884] CoreText note: Client requested name \".ArabicUIDisplay-Black\", it will get Times-Roman rather than the intended font. All system UI font access should be through proper APIs such as CTFontCreateUIFontForLanguage() or +[NSFont systemFontOfSize:].\n",
      "2025-09-08 12:11:01.487 system_profiler[89980:2869884] CoreText note: Client requested name \".ArabicUIText-Regular\", it will get Times-Roman rather than the intended font. All system UI font access should be through proper APIs such as CTFontCreateUIFontForLanguage() or +[NSFont systemFontOfSize:].\n",
      "2025-09-08 12:11:01.491 system_profiler[89980:2869884] CoreText note: Client requested name \".ArabicUIText-Medium\", it will get Times-Roman rather than the intended font. All system UI font access should be through proper APIs such as CTFontCreateUIFontForLanguage() or +[NSFont systemFontOfSize:].\n",
      "2025-09-08 12:11:01.494 system_profiler[89980:2869884] CoreText note: Client requested name \".ArabicUIText-Light\", it will get Times-Roman rather than the intended font. All system UI font access should be through proper APIs such as CTFontCreateUIFontForLanguage() or +[NSFont systemFontOfSize:].\n",
      "2025-09-08 12:11:01.497 system_profiler[89980:2869884] CoreText note: Client requested name \".ArabicUIText-Semibold\", it will get Times-Roman rather than the intended font. All system UI font access should be through proper APIs such as CTFontCreateUIFontForLanguage() or +[NSFont systemFontOfSize:].\n",
      "2025-09-08 12:11:01.500 system_profiler[89980:2869884] CoreText note: Client requested name \".ArabicUIText-Bold\", it will get Times-Roman rather than the intended font. All system UI font access should be through proper APIs such as CTFontCreateUIFontForLanguage() or +[NSFont systemFontOfSize:].\n",
      "2025-09-08 12:11:01.503 system_profiler[89980:2869884] CoreText note: Client requested name \".ArabicUIText-Heavy\", it will get Times-Roman rather than the intended font. All system UI font access should be through proper APIs such as CTFontCreateUIFontForLanguage() or +[NSFont systemFontOfSize:].\n",
      "2025-09-08 12:11:01.506 system_profiler[89980:2869884] CoreText note: Client requested name \".ArialHebrewDeskInterface\", it will get Times-Roman rather than the intended font. All system UI font access should be through proper APIs such as CTFontCreateUIFontForLanguage() or +[NSFont systemFontOfSize:].\n",
      "2025-09-08 12:11:01.508 system_profiler[89980:2869884] CoreText note: Client requested name \".ArialHebrewDeskInterface-Light\", it will get Times-Roman rather than the intended font. All system UI font access should be through proper APIs such as CTFontCreateUIFontForLanguage() or +[NSFont systemFontOfSize:].\n",
      "2025-09-08 12:11:01.511 system_profiler[89980:2869884] CoreText note: Client requested name \".ArialHebrewDeskInterface-Bold\", it will get Times-Roman rather than the intended font. All system UI font access should be through proper APIs such as CTFontCreateUIFontForLanguage() or +[NSFont systemFontOfSize:].\n",
      "2025-09-08 12:11:01.514 system_profiler[89980:2869884] CoreText note: Client requested name \".BaghdadPUA\", it will get Times-Roman rather than the intended font. All system UI font access should be through proper APIs such as CTFontCreateUIFontForLanguage() or +[NSFont systemFontOfSize:].\n",
      "2025-09-08 12:11:01.518 system_profiler[89980:2869884] CoreText note: Client requested name \".BeirutPUA\", it will get Times-Roman rather than the intended font. All system UI font access should be through proper APIs such as CTFontCreateUIFontForLanguage() or +[NSFont systemFontOfSize:].\n",
      "2025-09-08 12:11:01.521 system_profiler[89980:2869884] CoreText note: Client requested name \".DamascusPUA\", it will get Times-Roman rather than the intended font. All system UI font access should be through proper APIs such as CTFontCreateUIFontForLanguage() or +[NSFont systemFontOfSize:].\n",
      "2025-09-08 12:11:01.524 system_profiler[89980:2869884] CoreText note: Client requested name \".DamascusPUAMedium\", it will get Times-Roman rather than the intended font. All system UI font access should be through proper APIs such as CTFontCreateUIFontForLanguage() or +[NSFont systemFontOfSize:].\n",
      "2025-09-08 12:11:01.526 system_profiler[89980:2869884] CoreText note: Client requested name \".DamascusPUALight\", it will get Times-Roman rather than the intended font. All system UI font access should be through proper APIs such as CTFontCreateUIFontForLanguage() or +[NSFont systemFontOfSize:].\n",
      "2025-09-08 12:11:01.528 system_profiler[89980:2869884] CoreText note: Client requested name \".DamascusPUASemiBold\", it will get Times-Roman rather than the intended font. All system UI font access should be through proper APIs such as CTFontCreateUIFontForLanguage() or +[NSFont systemFontOfSize:].\n",
      "2025-09-08 12:11:01.531 system_profiler[89980:2869884] CoreText note: Client requested name \".DamascusPUABold\", it will get Times-Roman rather than the intended font. All system UI font access should be through proper APIs such as CTFontCreateUIFontForLanguage() or +[NSFont systemFontOfSize:].\n",
      "2025-09-08 12:11:01.534 system_profiler[89980:2869884] CoreText note: Client requested name \".DecoTypeNaskhPUA\", it will get Times-Roman rather than the intended font. All system UI font access should be through proper APIs such as CTFontCreateUIFontForLanguage() or +[NSFont systemFontOfSize:].\n",
      "2025-09-08 12:11:01.538 system_profiler[89980:2869884] CoreText note: Client requested name \".DiwanKufiPUA\", it will get Times-Roman rather than the intended font. All system UI font access should be through proper APIs such as CTFontCreateUIFontForLanguage() or +[NSFont systemFontOfSize:].\n",
      "2025-09-08 12:11:01.542 system_profiler[89980:2869884] CoreText note: Client requested name \".FarahPUA\", it will get Times-Roman rather than the intended font. All system UI font access should be through proper APIs such as CTFontCreateUIFontForLanguage() or +[NSFont systemFontOfSize:].\n",
      "2025-09-08 12:11:01.545 system_profiler[89980:2869884] CoreText note: Client requested name \".GeezaProInterface\", it will get Times-Roman rather than the intended font. All system UI font access should be through proper APIs such as CTFontCreateUIFontForLanguage() or +[NSFont systemFontOfSize:].\n",
      "2025-09-08 12:11:01.549 system_profiler[89980:2869884] CoreText note: Client requested name \".GeezaProInterface-Light\", it will get Times-Roman rather than the intended font. All system UI font access should be through proper APIs such as CTFontCreateUIFontForLanguage() or +[NSFont systemFontOfSize:].\n",
      "2025-09-08 12:11:01.552 system_profiler[89980:2869884] CoreText note: Client requested name \".GeezaProInterface-Bold\", it will get Times-Roman rather than the intended font. All system UI font access should be through proper APIs such as CTFontCreateUIFontForLanguage() or +[NSFont systemFontOfSize:].\n",
      "2025-09-08 12:11:01.555 system_profiler[89980:2869884] CoreText note: Client requested name \".GeezaProPUA\", it will get Times-Roman rather than the intended font. All system UI font access should be through proper APIs such as CTFontCreateUIFontForLanguage() or +[NSFont systemFontOfSize:].\n",
      "2025-09-08 12:11:01.558 system_profiler[89980:2869884] CoreText note: Client requested name \".GeezaProPUA-Bold\", it will get Times-Roman rather than the intended font. All system UI font access should be through proper APIs such as CTFontCreateUIFontForLanguage() or +[NSFont systemFontOfSize:].\n",
      "2025-09-08 12:11:01.581 system_profiler[89980:2869884] CoreText note: Client requested name \".HelveticaNeueDeskInterface-Regular\", it will get Times-Roman rather than the intended font. All system UI font access should be through proper APIs such as CTFontCreateUIFontForLanguage() or +[NSFont systemFontOfSize:].\n",
      "2025-09-08 12:11:01.590 system_profiler[89980:2869884] CoreText note: Client requested name \".HelveticaNeueDeskInterface-MediumP4\", it will get Times-Roman rather than the intended font. All system UI font access should be through proper APIs such as CTFontCreateUIFontForLanguage() or +[NSFont systemFontOfSize:].\n",
      "2025-09-08 12:11:01.598 system_profiler[89980:2869884] CoreText note: Client requested name \".HelveticaNeueDeskInterface-Light\", it will get Times-Roman rather than the intended font. All system UI font access should be through proper APIs such as CTFontCreateUIFontForLanguage() or +[NSFont systemFontOfSize:].\n",
      "2025-09-08 12:11:01.605 system_profiler[89980:2869884] CoreText note: Client requested name \".HelveticaNeueDeskInterface-Thin\", it will get Times-Roman rather than the intended font. All system UI font access should be through proper APIs such as CTFontCreateUIFontForLanguage() or +[NSFont systemFontOfSize:].\n",
      "2025-09-08 12:11:01.611 system_profiler[89980:2869884] CoreText note: Client requested name \".HelveticaNeueDeskInterface-UltraLightP2\", it will get Times-Roman rather than the intended font. All system UI font access should be through proper APIs such as CTFontCreateUIFontForLanguage() or +[NSFont systemFontOfSize:].\n",
      "2025-09-08 12:11:01.622 system_profiler[89980:2869884] CoreText note: Client requested name \".HelveticaNeueDeskInterface-Italic\", it will get Times-Roman rather than the intended font. All system UI font access should be through proper APIs such as CTFontCreateUIFontForLanguage() or +[NSFont systemFontOfSize:].\n",
      "2025-09-08 12:11:01.636 system_profiler[89980:2869884] CoreText note: Client requested name \".HelveticaNeueDeskInterface-MediumItalicP4\", it will get Times-Roman rather than the intended font. All system UI font access should be through proper APIs such as CTFontCreateUIFontForLanguage() or +[NSFont systemFontOfSize:].\n",
      "2025-09-08 12:11:01.644 system_profiler[89980:2869884] CoreText note: Client requested name \".HelveticaNeueDeskInterface-Bold\", it will get Times-Roman rather than the intended font. All system UI font access should be through proper APIs such as CTFontCreateUIFontForLanguage() or +[NSFont systemFontOfSize:].\n",
      "2025-09-08 12:11:01.651 system_profiler[89980:2869884] CoreText note: Client requested name \".HelveticaNeueDeskInterface-Heavy\", it will get Times-Roman rather than the intended font. All system UI font access should be through proper APIs such as CTFontCreateUIFontForLanguage() or +[NSFont systemFontOfSize:].\n",
      "2025-09-08 12:11:01.658 system_profiler[89980:2869884] CoreText note: Client requested name \".HelveticaNeueDeskInterface-BoldItalic\", it will get Times-Roman rather than the intended font. All system UI font access should be through proper APIs such as CTFontCreateUIFontForLanguage() or +[NSFont systemFontOfSize:].\n",
      "2025-09-08 12:11:01.661 system_profiler[89980:2869884] CoreText note: Client requested name \".HiraKakuInterface-W3\", it will get Times-Roman rather than the intended font. All system UI font access should be through proper APIs such as CTFontCreateUIFontForLanguage() or +[NSFont systemFontOfSize:].\n",
      "2025-09-08 12:11:01.666 system_profiler[89980:2869884] CoreText note: Client requested name \".HiraKakuInterface-W4\", it will get Times-Roman rather than the intended font. All system UI font access should be through proper APIs such as CTFontCreateUIFontForLanguage() or +[NSFont systemFontOfSize:].\n",
      "2025-09-08 12:11:01.670 system_profiler[89980:2869884] CoreText note: Client requested name \".HiraKakuInterface-W2\", it will get Times-Roman rather than the intended font. All system UI font access should be through proper APIs such as CTFontCreateUIFontForLanguage() or +[NSFont systemFontOfSize:].\n",
      "2025-09-08 12:11:01.674 system_profiler[89980:2869884] CoreText note: Client requested name \".HiraKakuInterface-W1\", it will get Times-Roman rather than the intended font. All system UI font access should be through proper APIs such as CTFontCreateUIFontForLanguage() or +[NSFont systemFontOfSize:].\n",
      "2025-09-08 12:11:01.677 system_profiler[89980:2869884] CoreText note: Client requested name \".HiraKakuInterface-W0\", it will get Times-Roman rather than the intended font. All system UI font access should be through proper APIs such as CTFontCreateUIFontForLanguage() or +[NSFont systemFontOfSize:].\n",
      "2025-09-08 12:11:01.680 system_profiler[89980:2869884] CoreText note: Client requested name \".HiraKakuInterface-W5\", it will get Times-Roman rather than the intended font. All system UI font access should be through proper APIs such as CTFontCreateUIFontForLanguage() or +[NSFont systemFontOfSize:].\n",
      "2025-09-08 12:11:01.685 system_profiler[89980:2869884] CoreText note: Client requested name \".HiraKakuInterface-W6\", it will get Times-Roman rather than the intended font. All system UI font access should be through proper APIs such as CTFontCreateUIFontForLanguage() or +[NSFont systemFontOfSize:].\n",
      "2025-09-08 12:11:01.688 system_profiler[89980:2869884] CoreText note: Client requested name \".HiraKakuInterface-W7\", it will get Times-Roman rather than the intended font. All system UI font access should be through proper APIs such as CTFontCreateUIFontForLanguage() or +[NSFont systemFontOfSize:].\n",
      "2025-09-08 12:11:01.691 system_profiler[89980:2869884] CoreText note: Client requested name \".HiraKakuInterface-W8\", it will get Times-Roman rather than the intended font. All system UI font access should be through proper APIs such as CTFontCreateUIFontForLanguage() or +[NSFont systemFontOfSize:].\n",
      "2025-09-08 12:11:01.695 system_profiler[89980:2869884] CoreText note: Client requested name \".HiraKakuInterface-W9\", it will get Times-Roman rather than the intended font. All system UI font access should be through proper APIs such as CTFontCreateUIFontForLanguage() or +[NSFont systemFontOfSize:].\n",
      "2025-09-08 12:11:01.699 system_profiler[89980:2869884] CoreText note: Client requested name \".HiraginoSansGBInterface-W3\", it will get Times-Roman rather than the intended font. All system UI font access should be through proper APIs such as CTFontCreateUIFontForLanguage() or +[NSFont systemFontOfSize:].\n",
      "2025-09-08 12:11:01.702 system_profiler[89980:2869884] CoreText note: Client requested name \".HiraginoSansGBInterface-W6\", it will get Times-Roman rather than the intended font. All system UI font access should be through proper APIs such as CTFontCreateUIFontForLanguage() or +[NSFont systemFontOfSize:].\n",
      "2025-09-08 12:11:01.705 system_profiler[89980:2869884] CoreText note: Client requested name \".Keyboard\", it will get Times-Roman rather than the intended font. All system UI font access should be through proper APIs such as CTFontCreateUIFontForLanguage() or +[NSFont systemFontOfSize:].\n",
      "2025-09-08 12:11:01.708 system_profiler[89980:2869884] CoreText note: Client requested name \".KufiStandardGKPUA\", it will get Times-Roman rather than the intended font. All system UI font access should be through proper APIs such as CTFontCreateUIFontForLanguage() or +[NSFont systemFontOfSize:].\n",
      "2025-09-08 12:11:01.718 system_profiler[89980:2869884] CoreText note: Client requested name \".LucidaGrandeUI\", it will get Times-Roman rather than the intended font. All system UI font access should be through proper APIs such as CTFontCreateUIFontForLanguage() or +[NSFont systemFontOfSize:].\n",
      "2025-09-08 12:11:01.723 system_profiler[89980:2869884] CoreText note: Client requested name \".LucidaGrandeUI-Bold\", it will get Times-Roman rather than the intended font. All system UI font access should be through proper APIs such as CTFontCreateUIFontForLanguage() or +[NSFont systemFontOfSize:].\n",
      "2025-09-08 12:11:01.726 system_profiler[89980:2869884] CoreText note: Client requested name \".MunaPUA\", it will get Times-Roman rather than the intended font. All system UI font access should be through proper APIs such as CTFontCreateUIFontForLanguage() or +[NSFont systemFontOfSize:].\n",
      "2025-09-08 12:11:01.729 system_profiler[89980:2869884] CoreText note: Client requested name \".MunaPUABold\", it will get Times-Roman rather than the intended font. All system UI font access should be through proper APIs such as CTFontCreateUIFontForLanguage() or +[NSFont systemFontOfSize:].\n",
      "2025-09-08 12:11:01.732 system_profiler[89980:2869884] CoreText note: Client requested name \".MunaPUABlack\", it will get Times-Roman rather than the intended font. All system UI font access should be through proper APIs such as CTFontCreateUIFontForLanguage() or +[NSFont systemFontOfSize:].\n",
      "2025-09-08 12:11:01.735 system_profiler[89980:2869884] CoreText note: Client requested name \".NadeemPUA\", it will get Times-Roman rather than the intended font. All system UI font access should be through proper APIs such as CTFontCreateUIFontForLanguage() or +[NSFont systemFontOfSize:].\n",
      "2025-09-08 12:11:01.740 system_profiler[89980:2869884] CoreText note: Client requested name \".NewYork-Regular\", it will get Times-Roman rather than the intended font. All system UI font access should be through proper APIs such as CTFontCreateUIFontForLanguage() or +[NSFont systemFontOfSize:].\n",
      "2025-09-08 12:11:01.743 system_profiler[89980:2869884] CoreText note: Client requested name \".NewYork-Medium\", it will get Times-Roman rather than the intended font. All system UI font access should be through proper APIs such as CTFontCreateUIFontForLanguage() or +[NSFont systemFontOfSize:].\n",
      "2025-09-08 12:11:01.749 system_profiler[89980:2869884] CoreText note: Client requested name \".NewYork-RegularItalic\", it will get Times-Roman rather than the intended font. All system UI font access should be through proper APIs such as CTFontCreateUIFontForLanguage() or +[NSFont systemFontOfSize:].\n",
      "2025-09-08 12:11:01.752 system_profiler[89980:2869884] CoreText note: Client requested name \".NewYork-MediumItalic\", it will get Times-Roman rather than the intended font. All system UI font access should be through proper APIs such as CTFontCreateUIFontForLanguage() or +[NSFont systemFontOfSize:].\n",
      "2025-09-08 12:11:01.755 system_profiler[89980:2869884] CoreText note: Client requested name \".NewYork-Semibold\", it will get Times-Roman rather than the intended font. All system UI font access should be through proper APIs such as CTFontCreateUIFontForLanguage() or +[NSFont systemFontOfSize:].\n",
      "2025-09-08 12:11:01.758 system_profiler[89980:2869884] CoreText note: Client requested name \".NewYork-Bold\", it will get Times-Roman rather than the intended font. All system UI font access should be through proper APIs such as CTFontCreateUIFontForLanguage() or +[NSFont systemFontOfSize:].\n",
      "2025-09-08 12:11:01.760 system_profiler[89980:2869884] CoreText note: Client requested name \".NewYork-Heavy\", it will get Times-Roman rather than the intended font. All system UI font access should be through proper APIs such as CTFontCreateUIFontForLanguage() or +[NSFont systemFontOfSize:].\n",
      "2025-09-08 12:11:01.763 system_profiler[89980:2869884] CoreText note: Client requested name \".NewYork-Black\", it will get Times-Roman rather than the intended font. All system UI font access should be through proper APIs such as CTFontCreateUIFontForLanguage() or +[NSFont systemFontOfSize:].\n",
      "2025-09-08 12:11:01.767 system_profiler[89980:2869884] CoreText note: Client requested name \".NewYork-SemiboldItalic\", it will get Times-Roman rather than the intended font. All system UI font access should be through proper APIs such as CTFontCreateUIFontForLanguage() or +[NSFont systemFontOfSize:].\n",
      "2025-09-08 12:11:01.770 system_profiler[89980:2869884] CoreText note: Client requested name \".NewYork-BoldItalic\", it will get Times-Roman rather than the intended font. All system UI font access should be through proper APIs such as CTFontCreateUIFontForLanguage() or +[NSFont systemFontOfSize:].\n",
      "2025-09-08 12:11:01.772 system_profiler[89980:2869884] CoreText note: Client requested name \".NewYork-HeavyItalic\", it will get Times-Roman rather than the intended font. All system UI font access should be through proper APIs such as CTFontCreateUIFontForLanguage() or +[NSFont systemFontOfSize:].\n",
      "2025-09-08 12:11:01.775 system_profiler[89980:2869884] CoreText note: Client requested name \".NewYork-BlackItalic\", it will get Times-Roman rather than the intended font. All system UI font access should be through proper APIs such as CTFontCreateUIFontForLanguage() or +[NSFont systemFontOfSize:].\n",
      "2025-09-08 12:11:01.779 system_profiler[89980:2869884] CoreText note: Client requested name \".NotoNastaliqUrduUI\", it will get Times-Roman rather than the intended font. All system UI font access should be through proper APIs such as CTFontCreateUIFontForLanguage() or +[NSFont systemFontOfSize:].\n",
      "2025-09-08 12:11:01.784 system_profiler[89980:2869884] CoreText note: Client requested name \".NotoNastaliqUrduUI-Bold\", it will get Times-Roman rather than the intended font. All system UI font access should be through proper APIs such as CTFontCreateUIFontForLanguage() or +[NSFont systemFontOfSize:].\n",
      "2025-09-08 12:11:01.790 system_profiler[89980:2869884] CoreText note: Client requested name \".PingFangHK-Regular\", it will get Times-Roman rather than the intended font. All system UI font access should be through proper APIs such as CTFontCreateUIFontForLanguage() or +[NSFont systemFontOfSize:].\n",
      "2025-09-08 12:11:01.794 system_profiler[89980:2869884] CoreText note: Client requested name \".PingFangHK-Medium\", it will get Times-Roman rather than the intended font. All system UI font access should be through proper APIs such as CTFontCreateUIFontForLanguage() or +[NSFont systemFontOfSize:].\n",
      "2025-09-08 12:11:01.799 system_profiler[89980:2869884] CoreText note: Client requested name \".PingFangHK-Light\", it will get Times-Roman rather than the intended font. All system UI font access should be through proper APIs such as CTFontCreateUIFontForLanguage() or +[NSFont systemFontOfSize:].\n",
      "2025-09-08 12:11:01.803 system_profiler[89980:2869884] CoreText note: Client requested name \".PingFangHK-Thin\", it will get Times-Roman rather than the intended font. All system UI font access should be through proper APIs such as CTFontCreateUIFontForLanguage() or +[NSFont systemFontOfSize:].\n",
      "2025-09-08 12:11:01.807 system_profiler[89980:2869884] CoreText note: Client requested name \".PingFangHK-Ultralight\", it will get Times-Roman rather than the intended font. All system UI font access should be through proper APIs such as CTFontCreateUIFontForLanguage() or +[NSFont systemFontOfSize:].\n",
      "2025-09-08 12:11:01.811 system_profiler[89980:2869884] CoreText note: Client requested name \".PingFangHK-Semibold\", it will get Times-Roman rather than the intended font. All system UI font access should be through proper APIs such as CTFontCreateUIFontForLanguage() or +[NSFont systemFontOfSize:].\n",
      "2025-09-08 12:11:01.814 system_profiler[89980:2869884] CoreText note: Client requested name \".PingFangSC-Regular\", it will get Times-Roman rather than the intended font. All system UI font access should be through proper APIs such as CTFontCreateUIFontForLanguage() or +[NSFont systemFontOfSize:].\n",
      "2025-09-08 12:11:01.818 system_profiler[89980:2869884] CoreText note: Client requested name \".PingFangSC-Medium\", it will get Times-Roman rather than the intended font. All system UI font access should be through proper APIs such as CTFontCreateUIFontForLanguage() or +[NSFont systemFontOfSize:].\n",
      "2025-09-08 12:11:01.821 system_profiler[89980:2869884] CoreText note: Client requested name \".PingFangSC-Light\", it will get Times-Roman rather than the intended font. All system UI font access should be through proper APIs such as CTFontCreateUIFontForLanguage() or +[NSFont systemFontOfSize:].\n",
      "2025-09-08 12:11:01.824 system_profiler[89980:2869884] CoreText note: Client requested name \".PingFangSC-Thin\", it will get Times-Roman rather than the intended font. All system UI font access should be through proper APIs such as CTFontCreateUIFontForLanguage() or +[NSFont systemFontOfSize:].\n",
      "2025-09-08 12:11:01.827 system_profiler[89980:2869884] CoreText note: Client requested name \".PingFangSC-Ultralight\", it will get Times-Roman rather than the intended font. All system UI font access should be through proper APIs such as CTFontCreateUIFontForLanguage() or +[NSFont systemFontOfSize:].\n",
      "2025-09-08 12:11:01.830 system_profiler[89980:2869884] CoreText note: Client requested name \".PingFangSC-Semibold\", it will get Times-Roman rather than the intended font. All system UI font access should be through proper APIs such as CTFontCreateUIFontForLanguage() or +[NSFont systemFontOfSize:].\n",
      "2025-09-08 12:11:01.835 system_profiler[89980:2869884] CoreText note: Client requested name \".PingFangTC-Regular\", it will get Times-Roman rather than the intended font. All system UI font access should be through proper APIs such as CTFontCreateUIFontForLanguage() or +[NSFont systemFontOfSize:].\n",
      "2025-09-08 12:11:01.838 system_profiler[89980:2869884] CoreText note: Client requested name \".PingFangTC-Medium\", it will get Times-Roman rather than the intended font. All system UI font access should be through proper APIs such as CTFontCreateUIFontForLanguage() or +[NSFont systemFontOfSize:].\n",
      "2025-09-08 12:11:01.841 system_profiler[89980:2869884] CoreText note: Client requested name \".PingFangTC-Light\", it will get Times-Roman rather than the intended font. All system UI font access should be through proper APIs such as CTFontCreateUIFontForLanguage() or +[NSFont systemFontOfSize:].\n",
      "2025-09-08 12:11:01.844 system_profiler[89980:2869884] CoreText note: Client requested name \".PingFangTC-Thin\", it will get Times-Roman rather than the intended font. All system UI font access should be through proper APIs such as CTFontCreateUIFontForLanguage() or +[NSFont systemFontOfSize:].\n",
      "2025-09-08 12:11:01.847 system_profiler[89980:2869884] CoreText note: Client requested name \".PingFangTC-Ultralight\", it will get Times-Roman rather than the intended font. All system UI font access should be through proper APIs such as CTFontCreateUIFontForLanguage() or +[NSFont systemFontOfSize:].\n",
      "2025-09-08 12:11:01.851 system_profiler[89980:2869884] CoreText note: Client requested name \".PingFangTC-Semibold\", it will get Times-Roman rather than the intended font. All system UI font access should be through proper APIs such as CTFontCreateUIFontForLanguage() or +[NSFont systemFontOfSize:].\n",
      "2025-09-08 12:11:01.854 system_profiler[89980:2869884] CoreText note: Client requested name \".SanaPUA\", it will get Times-Roman rather than the intended font. All system UI font access should be through proper APIs such as CTFontCreateUIFontForLanguage() or +[NSFont systemFontOfSize:].\n",
      "2025-09-08 12:11:01.857 system_profiler[89980:2869884] CoreText note: Client requested name \".SavoyeLetPlainCC\", it will get Times-Roman rather than the intended font. All system UI font access should be through proper APIs such as CTFontCreateUIFontForLanguage() or +[NSFont systemFontOfSize:].\n",
      "2025-09-08 12:11:01.862 system_profiler[89980:2869884] CoreText note: Client requested name \"..SFCompactDisplay-Regular\", it will get Times-Roman rather than the intended font. All system UI font access should be through proper APIs such as CTFontCreateUIFontForLanguage() or +[NSFont systemFontOfSize:].\n",
      "2025-09-08 12:11:01.867 system_profiler[89980:2869884] CoreText note: Client requested name \".SFCompactDisplay-Regular\", it will get Times-Roman rather than the intended font. All system UI font access should be through proper APIs such as CTFontCreateUIFontForLanguage() or +[NSFont systemFontOfSize:].\n",
      "2025-09-08 12:11:01.870 system_profiler[89980:2869884] CoreText note: Client requested name \".SFCompactDisplay-Medium\", it will get Times-Roman rather than the intended font. All system UI font access should be through proper APIs such as CTFontCreateUIFontForLanguage() or +[NSFont systemFontOfSize:].\n",
      "2025-09-08 12:11:01.874 system_profiler[89980:2869884] CoreText note: Client requested name \".SFCompactDisplay-Light\", it will get Times-Roman rather than the intended font. All system UI font access should be through proper APIs such as CTFontCreateUIFontForLanguage() or +[NSFont systemFontOfSize:].\n",
      "2025-09-08 12:11:01.877 system_profiler[89980:2869884] CoreText note: Client requested name \".SFCompactDisplay-Thin\", it will get Times-Roman rather than the intended font. All system UI font access should be through proper APIs such as CTFontCreateUIFontForLanguage() or +[NSFont systemFontOfSize:].\n",
      "2025-09-08 12:11:01.880 system_profiler[89980:2869884] CoreText note: Client requested name \".SFCompactDisplay-Ultralight\", it will get Times-Roman rather than the intended font. All system UI font access should be through proper APIs such as CTFontCreateUIFontForLanguage() or +[NSFont systemFontOfSize:].\n",
      "2025-09-08 12:11:01.884 system_profiler[89980:2869884] CoreText note: Client requested name \".SFCompactDisplay-Semibold\", it will get Times-Roman rather than the intended font. All system UI font access should be through proper APIs such as CTFontCreateUIFontForLanguage() or +[NSFont systemFontOfSize:].\n",
      "2025-09-08 12:11:01.888 system_profiler[89980:2869884] CoreText note: Client requested name \".SFCompactDisplay-Bold\", it will get Times-Roman rather than the intended font. All system UI font access should be through proper APIs such as CTFontCreateUIFontForLanguage() or +[NSFont systemFontOfSize:].\n",
      "2025-09-08 12:11:01.891 system_profiler[89980:2869884] CoreText note: Client requested name \".SFCompactDisplay-Heavy\", it will get Times-Roman rather than the intended font. All system UI font access should be through proper APIs such as CTFontCreateUIFontForLanguage() or +[NSFont systemFontOfSize:].\n",
      "2025-09-08 12:11:01.894 system_profiler[89980:2869884] CoreText note: Client requested name \".SFCompactDisplay-Black\", it will get Times-Roman rather than the intended font. All system UI font access should be through proper APIs such as CTFontCreateUIFontForLanguage() or +[NSFont systemFontOfSize:].\n",
      "2025-09-08 12:11:01.900 system_profiler[89980:2869884] CoreText note: Client requested name \"..SFCompactRounded-Regular\", it will get Times-Roman rather than the intended font. All system UI font access should be through proper APIs such as CTFontCreateUIFontForLanguage() or +[NSFont systemFontOfSize:].\n",
      "2025-09-08 12:11:01.905 system_profiler[89980:2869884] CoreText note: Client requested name \".SFCompactRounded-Regular\", it will get Times-Roman rather than the intended font. All system UI font access should be through proper APIs such as CTFontCreateUIFontForLanguage() or +[NSFont systemFontOfSize:].\n",
      "2025-09-08 12:11:01.909 system_profiler[89980:2869884] CoreText note: Client requested name \".SFCompactRounded-Medium\", it will get Times-Roman rather than the intended font. All system UI font access should be through proper APIs such as CTFontCreateUIFontForLanguage() or +[NSFont systemFontOfSize:].\n",
      "2025-09-08 12:11:01.912 system_profiler[89980:2869884] CoreText note: Client requested name \".SFCompactRounded-Light\", it will get Times-Roman rather than the intended font. All system UI font access should be through proper APIs such as CTFontCreateUIFontForLanguage() or +[NSFont systemFontOfSize:].\n",
      "2025-09-08 12:11:01.916 system_profiler[89980:2869884] CoreText note: Client requested name \".SFCompactRounded-Thin\", it will get Times-Roman rather than the intended font. All system UI font access should be through proper APIs such as CTFontCreateUIFontForLanguage() or +[NSFont systemFontOfSize:].\n",
      "2025-09-08 12:11:01.919 system_profiler[89980:2869884] CoreText note: Client requested name \".SFCompactRounded-Ultralight\", it will get Times-Roman rather than the intended font. All system UI font access should be through proper APIs such as CTFontCreateUIFontForLanguage() or +[NSFont systemFontOfSize:].\n",
      "2025-09-08 12:11:01.924 system_profiler[89980:2869884] CoreText note: Client requested name \".SFCompactRounded-Semibold\", it will get Times-Roman rather than the intended font. All system UI font access should be through proper APIs such as CTFontCreateUIFontForLanguage() or +[NSFont systemFontOfSize:].\n",
      "2025-09-08 12:11:01.928 system_profiler[89980:2869884] CoreText note: Client requested name \".SFCompactRounded-Bold\", it will get Times-Roman rather than the intended font. All system UI font access should be through proper APIs such as CTFontCreateUIFontForLanguage() or +[NSFont systemFontOfSize:].\n",
      "2025-09-08 12:11:01.931 system_profiler[89980:2869884] CoreText note: Client requested name \".SFCompactRounded-Heavy\", it will get Times-Roman rather than the intended font. All system UI font access should be through proper APIs such as CTFontCreateUIFontForLanguage() or +[NSFont systemFontOfSize:].\n",
      "2025-09-08 12:11:01.935 system_profiler[89980:2869884] CoreText note: Client requested name \".SFCompactRounded-Black\", it will get Times-Roman rather than the intended font. All system UI font access should be through proper APIs such as CTFontCreateUIFontForLanguage() or +[NSFont systemFontOfSize:].\n",
      "2025-09-08 12:11:01.941 system_profiler[89980:2869884] CoreText note: Client requested name \"..SFCompactText-Regular\", it will get Times-Roman rather than the intended font. All system UI font access should be through proper APIs such as CTFontCreateUIFontForLanguage() or +[NSFont systemFontOfSize:].\n",
      "2025-09-08 12:11:01.945 system_profiler[89980:2869884] CoreText note: Client requested name \".SFCompactText-Regular\", it will get Times-Roman rather than the intended font. All system UI font access should be through proper APIs such as CTFontCreateUIFontForLanguage() or +[NSFont systemFontOfSize:].\n",
      "2025-09-08 12:11:01.950 system_profiler[89980:2869884] CoreText note: Client requested name \".SFCompactText-RegularG1\", it will get Times-Roman rather than the intended font. All system UI font access should be through proper APIs such as CTFontCreateUIFontForLanguage() or +[NSFont systemFontOfSize:].\n",
      "2025-09-08 12:11:01.954 system_profiler[89980:2869884] CoreText note: Client requested name \".SFCompactText-RegularG2\", it will get Times-Roman rather than the intended font. All system UI font access should be through proper APIs such as CTFontCreateUIFontForLanguage() or +[NSFont systemFontOfSize:].\n",
      "2025-09-08 12:11:01.958 system_profiler[89980:2869884] CoreText note: Client requested name \".SFCompactText-RegularG3\", it will get Times-Roman rather than the intended font. All system UI font access should be through proper APIs such as CTFontCreateUIFontForLanguage() or +[NSFont systemFontOfSize:].\n",
      "2025-09-08 12:11:01.961 system_profiler[89980:2869884] CoreText note: Client requested name \".SFCompactText-Medium\", it will get Times-Roman rather than the intended font. All system UI font access should be through proper APIs such as CTFontCreateUIFontForLanguage() or +[NSFont systemFontOfSize:].\n",
      "2025-09-08 12:11:01.965 system_profiler[89980:2869884] CoreText note: Client requested name \".SFCompactText-Light\", it will get Times-Roman rather than the intended font. All system UI font access should be through proper APIs such as CTFontCreateUIFontForLanguage() or +[NSFont systemFontOfSize:].\n",
      "2025-09-08 12:11:01.969 system_profiler[89980:2869884] CoreText note: Client requested name \".SFCompactText-Thin\", it will get Times-Roman rather than the intended font. All system UI font access should be through proper APIs such as CTFontCreateUIFontForLanguage() or +[NSFont systemFontOfSize:].\n",
      "2025-09-08 12:11:01.972 system_profiler[89980:2869884] CoreText note: Client requested name \".SFCompactText-Ultralight\", it will get Times-Roman rather than the intended font. All system UI font access should be through proper APIs such as CTFontCreateUIFontForLanguage() or +[NSFont systemFontOfSize:].\n",
      "2025-09-08 12:11:01.978 system_profiler[89980:2869884] CoreText note: Client requested name \"..SFCompactText-Italic\", it will get Times-Roman rather than the intended font. All system UI font access should be through proper APIs such as CTFontCreateUIFontForLanguage() or +[NSFont systemFontOfSize:].\n",
      "2025-09-08 12:11:01.984 system_profiler[89980:2869884] CoreText note: Client requested name \".SFCompactText-RegularItalic\", it will get Times-Roman rather than the intended font. All system UI font access should be through proper APIs such as CTFontCreateUIFontForLanguage() or +[NSFont systemFontOfSize:].\n",
      "2025-09-08 12:11:01.988 system_profiler[89980:2869884] CoreText note: Client requested name \".SFCompactText-RegularItalicG1\", it will get Times-Roman rather than the intended font. All system UI font access should be through proper APIs such as CTFontCreateUIFontForLanguage() or +[NSFont systemFontOfSize:].\n",
      "2025-09-08 12:11:01.991 system_profiler[89980:2869884] CoreText note: Client requested name \".SFCompactText-RegularItalicG2\", it will get Times-Roman rather than the intended font. All system UI font access should be through proper APIs such as CTFontCreateUIFontForLanguage() or +[NSFont systemFontOfSize:].\n",
      "2025-09-08 12:11:01.996 system_profiler[89980:2869884] CoreText note: Client requested name \".SFCompactText-RegularItalicG3\", it will get Times-Roman rather than the intended font. All system UI font access should be through proper APIs such as CTFontCreateUIFontForLanguage() or +[NSFont systemFontOfSize:].\n",
      "2025-09-08 12:11:02.000 system_profiler[89980:2869884] CoreText note: Client requested name \".SFCompactText-MediumItalic\", it will get Times-Roman rather than the intended font. All system UI font access should be through proper APIs such as CTFontCreateUIFontForLanguage() or +[NSFont systemFontOfSize:].\n",
      "2025-09-08 12:11:02.003 system_profiler[89980:2869884] CoreText note: Client requested name \".SFCompactText-LightItalic\", it will get Times-Roman rather than the intended font. All system UI font access should be through proper APIs such as CTFontCreateUIFontForLanguage() or +[NSFont systemFontOfSize:].\n",
      "2025-09-08 12:11:02.008 system_profiler[89980:2869884] CoreText note: Client requested name \".SFCompactText-ThinItalic\", it will get Times-Roman rather than the intended font. All system UI font access should be through proper APIs such as CTFontCreateUIFontForLanguage() or +[NSFont systemFontOfSize:].\n",
      "2025-09-08 12:11:02.012 system_profiler[89980:2869884] CoreText note: Client requested name \".SFCompactText-UltralightItalic\", it will get Times-Roman rather than the intended font. All system UI font access should be through proper APIs such as CTFontCreateUIFontForLanguage() or +[NSFont systemFontOfSize:].\n",
      "2025-09-08 12:11:02.017 system_profiler[89980:2869884] CoreText note: Client requested name \".SFCompactText-Semibold\", it will get Times-Roman rather than the intended font. All system UI font access should be through proper APIs such as CTFontCreateUIFontForLanguage() or +[NSFont systemFontOfSize:].\n",
      "2025-09-08 12:11:02.021 system_profiler[89980:2869884] CoreText note: Client requested name \".SFCompactText-Bold\", it will get Times-Roman rather than the intended font. All system UI font access should be through proper APIs such as CTFontCreateUIFontForLanguage() or +[NSFont systemFontOfSize:].\n",
      "2025-09-08 12:11:02.024 system_profiler[89980:2869884] CoreText note: Client requested name \".SFCompactText-BoldG1\", it will get Times-Roman rather than the intended font. All system UI font access should be through proper APIs such as CTFontCreateUIFontForLanguage() or +[NSFont systemFontOfSize:].\n",
      "2025-09-08 12:11:02.029 system_profiler[89980:2869884] CoreText note: Client requested name \".SFCompactText-BoldG2\", it will get Times-Roman rather than the intended font. All system UI font access should be through proper APIs such as CTFontCreateUIFontForLanguage() or +[NSFont systemFontOfSize:].\n",
      "2025-09-08 12:11:02.034 system_profiler[89980:2869884] CoreText note: Client requested name \".SFCompactText-BoldG3\", it will get Times-Roman rather than the intended font. All system UI font access should be through proper APIs such as CTFontCreateUIFontForLanguage() or +[NSFont systemFontOfSize:].\n",
      "2025-09-08 12:11:02.038 system_profiler[89980:2869884] CoreText note: Client requested name \".SFCompactText-Heavy\", it will get Times-Roman rather than the intended font. All system UI font access should be through proper APIs such as CTFontCreateUIFontForLanguage() or +[NSFont systemFontOfSize:].\n",
      "2025-09-08 12:11:02.042 system_profiler[89980:2869884] CoreText note: Client requested name \".SFCompactText-SemiboldItalic\", it will get Times-Roman rather than the intended font. All system UI font access should be through proper APIs such as CTFontCreateUIFontForLanguage() or +[NSFont systemFontOfSize:].\n",
      "2025-09-08 12:11:02.045 system_profiler[89980:2869884] CoreText note: Client requested name \".SFCompactText-BoldItalic\", it will get Times-Roman rather than the intended font. All system UI font access should be through proper APIs such as CTFontCreateUIFontForLanguage() or +[NSFont systemFontOfSize:].\n",
      "2025-09-08 12:11:02.049 system_profiler[89980:2869884] CoreText note: Client requested name \".SFCompactText-BoldItalicG1\", it will get Times-Roman rather than the intended font. All system UI font access should be through proper APIs such as CTFontCreateUIFontForLanguage() or +[NSFont systemFontOfSize:].\n",
      "2025-09-08 12:11:02.053 system_profiler[89980:2869884] CoreText note: Client requested name \".SFCompactText-BoldItalicG2\", it will get Times-Roman rather than the intended font. All system UI font access should be through proper APIs such as CTFontCreateUIFontForLanguage() or +[NSFont systemFontOfSize:].\n",
      "2025-09-08 12:11:02.058 system_profiler[89980:2869884] CoreText note: Client requested name \".SFCompactText-BoldItalicG3\", it will get Times-Roman rather than the intended font. All system UI font access should be through proper APIs such as CTFontCreateUIFontForLanguage() or +[NSFont systemFontOfSize:].\n",
      "2025-09-08 12:11:02.061 system_profiler[89980:2869884] CoreText note: Client requested name \".SFCompactText-HeavyItalic\", it will get Times-Roman rather than the intended font. All system UI font access should be through proper APIs such as CTFontCreateUIFontForLanguage() or +[NSFont systemFontOfSize:].\n",
      "2025-09-08 12:11:02.067 system_profiler[89980:2869884] CoreText note: Client requested name \".SFNS-Regular\", it will get Times-Roman rather than the intended font. All system UI font access should be through proper APIs such as CTFontCreateUIFontForLanguage() or +[NSFont systemFontOfSize:].\n",
      "2025-09-08 12:11:02.074 system_profiler[89980:2869884] CoreText note: Client requested name \".SFNS-RegularG1\", it will get Times-Roman rather than the intended font. All system UI font access should be through proper APIs such as CTFontCreateUIFontForLanguage() or +[NSFont systemFontOfSize:].\n",
      "2025-09-08 12:11:02.082 system_profiler[89980:2869884] CoreText note: Client requested name \".SFNS-RegularG2\", it will get Times-Roman rather than the intended font. All system UI font access should be through proper APIs such as CTFontCreateUIFontForLanguage() or +[NSFont systemFontOfSize:].\n",
      "2025-09-08 12:11:02.089 system_profiler[89980:2869884] CoreText note: Client requested name \".SFNS-RegularG3\", it will get Times-Roman rather than the intended font. All system UI font access should be through proper APIs such as CTFontCreateUIFontForLanguage() or +[NSFont systemFontOfSize:].\n",
      "2025-09-08 12:11:02.095 system_profiler[89980:2869884] CoreText note: Client requested name \".SFNS-RegularG4\", it will get Times-Roman rather than the intended font. All system UI font access should be through proper APIs such as CTFontCreateUIFontForLanguage() or +[NSFont systemFontOfSize:].\n",
      "2025-09-08 12:11:02.101 system_profiler[89980:2869884] CoreText note: Client requested name \".SFNS-Medium\", it will get Times-Roman rather than the intended font. All system UI font access should be through proper APIs such as CTFontCreateUIFontForLanguage() or +[NSFont systemFontOfSize:].\n",
      "2025-09-08 12:11:02.107 system_profiler[89980:2869884] CoreText note: Client requested name \".SFNS-MediumG1\", it will get Times-Roman rather than the intended font. All system UI font access should be through proper APIs such as CTFontCreateUIFontForLanguage() or +[NSFont systemFontOfSize:].\n",
      "2025-09-08 12:11:02.113 system_profiler[89980:2869884] CoreText note: Client requested name \".SFNS-MediumG2\", it will get Times-Roman rather than the intended font. All system UI font access should be through proper APIs such as CTFontCreateUIFontForLanguage() or +[NSFont systemFontOfSize:].\n",
      "2025-09-08 12:11:02.119 system_profiler[89980:2869884] CoreText note: Client requested name \".SFNS-MediumG3\", it will get Times-Roman rather than the intended font. All system UI font access should be through proper APIs such as CTFontCreateUIFontForLanguage() or +[NSFont systemFontOfSize:].\n",
      "2025-09-08 12:11:02.125 system_profiler[89980:2869884] CoreText note: Client requested name \".SFNS-MediumG4\", it will get Times-Roman rather than the intended font. All system UI font access should be through proper APIs such as CTFontCreateUIFontForLanguage() or +[NSFont systemFontOfSize:].\n",
      "2025-09-08 12:11:02.130 system_profiler[89980:2869884] CoreText note: Client requested name \".SFNS-Light\", it will get Times-Roman rather than the intended font. All system UI font access should be through proper APIs such as CTFontCreateUIFontForLanguage() or +[NSFont systemFontOfSize:].\n",
      "2025-09-08 12:11:02.137 system_profiler[89980:2869884] CoreText note: Client requested name \".SFNS-LightG1\", it will get Times-Roman rather than the intended font. All system UI font access should be through proper APIs such as CTFontCreateUIFontForLanguage() or +[NSFont systemFontOfSize:].\n",
      "2025-09-08 12:11:02.143 system_profiler[89980:2869884] CoreText note: Client requested name \".SFNS-LightG2\", it will get Times-Roman rather than the intended font. All system UI font access should be through proper APIs such as CTFontCreateUIFontForLanguage() or +[NSFont systemFontOfSize:].\n",
      "2025-09-08 12:11:02.150 system_profiler[89980:2869884] CoreText note: Client requested name \".SFNS-LightG3\", it will get Times-Roman rather than the intended font. All system UI font access should be through proper APIs such as CTFontCreateUIFontForLanguage() or +[NSFont systemFontOfSize:].\n",
      "2025-09-08 12:11:02.156 system_profiler[89980:2869884] CoreText note: Client requested name \".SFNS-LightG4\", it will get Times-Roman rather than the intended font. All system UI font access should be through proper APIs such as CTFontCreateUIFontForLanguage() or +[NSFont systemFontOfSize:].\n",
      "2025-09-08 12:11:02.161 system_profiler[89980:2869884] CoreText note: Client requested name \".SFNS-Thin\", it will get Times-Roman rather than the intended font. All system UI font access should be through proper APIs such as CTFontCreateUIFontForLanguage() or +[NSFont systemFontOfSize:].\n",
      "2025-09-08 12:11:02.168 system_profiler[89980:2869884] CoreText note: Client requested name \".SFNS-ThinG1\", it will get Times-Roman rather than the intended font. All system UI font access should be through proper APIs such as CTFontCreateUIFontForLanguage() or +[NSFont systemFontOfSize:].\n",
      "2025-09-08 12:11:02.174 system_profiler[89980:2869884] CoreText note: Client requested name \".SFNS-ThinG2\", it will get Times-Roman rather than the intended font. All system UI font access should be through proper APIs such as CTFontCreateUIFontForLanguage() or +[NSFont systemFontOfSize:].\n",
      "2025-09-08 12:11:02.180 system_profiler[89980:2869884] CoreText note: Client requested name \".SFNS-ThinG3\", it will get Times-Roman rather than the intended font. All system UI font access should be through proper APIs such as CTFontCreateUIFontForLanguage() or +[NSFont systemFontOfSize:].\n",
      "2025-09-08 12:11:02.186 system_profiler[89980:2869884] CoreText note: Client requested name \".SFNS-ThinG4\", it will get Times-Roman rather than the intended font. All system UI font access should be through proper APIs such as CTFontCreateUIFontForLanguage() or +[NSFont systemFontOfSize:].\n",
      "2025-09-08 12:11:02.192 system_profiler[89980:2869884] CoreText note: Client requested name \".SFNS-Ultralight\", it will get Times-Roman rather than the intended font. All system UI font access should be through proper APIs such as CTFontCreateUIFontForLanguage() or +[NSFont systemFontOfSize:].\n",
      "2025-09-08 12:11:02.198 system_profiler[89980:2869884] CoreText note: Client requested name \".SFNS-UltralightG1\", it will get Times-Roman rather than the intended font. All system UI font access should be through proper APIs such as CTFontCreateUIFontForLanguage() or +[NSFont systemFontOfSize:].\n",
      "2025-09-08 12:11:02.205 system_profiler[89980:2869884] CoreText note: Client requested name \".SFNS-UltralightG2\", it will get Times-Roman rather than the intended font. All system UI font access should be through proper APIs such as CTFontCreateUIFontForLanguage() or +[NSFont systemFontOfSize:].\n",
      "2025-09-08 12:11:02.211 system_profiler[89980:2869884] CoreText note: Client requested name \".SFNS-UltralightG3\", it will get Times-Roman rather than the intended font. All system UI font access should be through proper APIs such as CTFontCreateUIFontForLanguage() or +[NSFont systemFontOfSize:].\n",
      "2025-09-08 12:11:02.219 system_profiler[89980:2869884] CoreText note: Client requested name \".SFNS-UltralightG4\", it will get Times-Roman rather than the intended font. All system UI font access should be through proper APIs such as CTFontCreateUIFontForLanguage() or +[NSFont systemFontOfSize:].\n",
      "2025-09-08 12:11:02.225 system_profiler[89980:2869884] CoreText note: Client requested name \".SFNS-Ultrathin\", it will get Times-Roman rather than the intended font. All system UI font access should be through proper APIs such as CTFontCreateUIFontForLanguage() or +[NSFont systemFontOfSize:].\n",
      "2025-09-08 12:11:02.231 system_profiler[89980:2869884] CoreText note: Client requested name \".SFNS-UltrathinG1\", it will get Times-Roman rather than the intended font. All system UI font access should be through proper APIs such as CTFontCreateUIFontForLanguage() or +[NSFont systemFontOfSize:].\n",
      "2025-09-08 12:11:02.237 system_profiler[89980:2869884] CoreText note: Client requested name \".SFNS-UltrathinG2\", it will get Times-Roman rather than the intended font. All system UI font access should be through proper APIs such as CTFontCreateUIFontForLanguage() or +[NSFont systemFontOfSize:].\n",
      "2025-09-08 12:11:02.243 system_profiler[89980:2869884] CoreText note: Client requested name \".SFNS-UltrathinG3\", it will get Times-Roman rather than the intended font. All system UI font access should be through proper APIs such as CTFontCreateUIFontForLanguage() or +[NSFont systemFontOfSize:].\n",
      "2025-09-08 12:11:02.250 system_profiler[89980:2869884] CoreText note: Client requested name \".SFNS-UltrathinG4\", it will get Times-Roman rather than the intended font. All system UI font access should be through proper APIs such as CTFontCreateUIFontForLanguage() or +[NSFont systemFontOfSize:].\n",
      "2025-09-08 12:11:02.255 system_profiler[89980:2869884] CoreText note: Client requested name \".SFNS-RegularItalic\", it will get Times-Roman rather than the intended font. All system UI font access should be through proper APIs such as CTFontCreateUIFontForLanguage() or +[NSFont systemFontOfSize:].\n",
      "2025-09-08 12:11:02.260 system_profiler[89980:2869884] CoreText note: Client requested name \".SFNS-MediumItalic\", it will get Times-Roman rather than the intended font. All system UI font access should be through proper APIs such as CTFontCreateUIFontForLanguage() or +[NSFont systemFontOfSize:].\n",
      "2025-09-08 12:11:02.266 system_profiler[89980:2869884] CoreText note: Client requested name \".SFNS-LightItalic\", it will get Times-Roman rather than the intended font. All system UI font access should be through proper APIs such as CTFontCreateUIFontForLanguage() or +[NSFont systemFontOfSize:].\n",
      "2025-09-08 12:11:02.271 system_profiler[89980:2869884] CoreText note: Client requested name \".SFNS-ThinItalic\", it will get Times-Roman rather than the intended font. All system UI font access should be through proper APIs such as CTFontCreateUIFontForLanguage() or +[NSFont systemFontOfSize:].\n",
      "2025-09-08 12:11:02.276 system_profiler[89980:2869884] CoreText note: Client requested name \".SFNS-UltralightItalic\", it will get Times-Roman rather than the intended font. All system UI font access should be through proper APIs such as CTFontCreateUIFontForLanguage() or +[NSFont systemFontOfSize:].\n",
      "2025-09-08 12:11:02.281 system_profiler[89980:2869884] CoreText note: Client requested name \".SFNS-UltrathinItalic\", it will get Times-Roman rather than the intended font. All system UI font access should be through proper APIs such as CTFontCreateUIFontForLanguage() or +[NSFont systemFontOfSize:].\n",
      "2025-09-08 12:11:02.287 system_profiler[89980:2869884] CoreText note: Client requested name \".SFNS-Semibold\", it will get Times-Roman rather than the intended font. All system UI font access should be through proper APIs such as CTFontCreateUIFontForLanguage() or +[NSFont systemFontOfSize:].\n",
      "2025-09-08 12:11:02.293 system_profiler[89980:2869884] CoreText note: Client requested name \".SFNS-SemiboldG1\", it will get Times-Roman rather than the intended font. All system UI font access should be through proper APIs such as CTFontCreateUIFontForLanguage() or +[NSFont systemFontOfSize:].\n",
      "2025-09-08 12:11:02.299 system_profiler[89980:2869884] CoreText note: Client requested name \".SFNS-SemiboldG2\", it will get Times-Roman rather than the intended font. All system UI font access should be through proper APIs such as CTFontCreateUIFontForLanguage() or +[NSFont systemFontOfSize:].\n",
      "2025-09-08 12:11:02.305 system_profiler[89980:2869884] CoreText note: Client requested name \".SFNS-SemiboldG3\", it will get Times-Roman rather than the intended font. All system UI font access should be through proper APIs such as CTFontCreateUIFontForLanguage() or +[NSFont systemFontOfSize:].\n",
      "2025-09-08 12:11:02.311 system_profiler[89980:2869884] CoreText note: Client requested name \".SFNS-SemiboldG4\", it will get Times-Roman rather than the intended font. All system UI font access should be through proper APIs such as CTFontCreateUIFontForLanguage() or +[NSFont systemFontOfSize:].\n",
      "2025-09-08 12:11:02.318 system_profiler[89980:2869884] CoreText note: Client requested name \".SFNS-Bold\", it will get Times-Roman rather than the intended font. All system UI font access should be through proper APIs such as CTFontCreateUIFontForLanguage() or +[NSFont systemFontOfSize:].\n",
      "2025-09-08 12:11:02.324 system_profiler[89980:2869884] CoreText note: Client requested name \".SFNS-BoldG1\", it will get Times-Roman rather than the intended font. All system UI font access should be through proper APIs such as CTFontCreateUIFontForLanguage() or +[NSFont systemFontOfSize:].\n",
      "2025-09-08 12:11:02.330 system_profiler[89980:2869884] CoreText note: Client requested name \".SFNS-BoldG2\", it will get Times-Roman rather than the intended font. All system UI font access should be through proper APIs such as CTFontCreateUIFontForLanguage() or +[NSFont systemFontOfSize:].\n",
      "2025-09-08 12:11:02.337 system_profiler[89980:2869884] CoreText note: Client requested name \".SFNS-BoldG3\", it will get Times-Roman rather than the intended font. All system UI font access should be through proper APIs such as CTFontCreateUIFontForLanguage() or +[NSFont systemFontOfSize:].\n",
      "2025-09-08 12:11:02.344 system_profiler[89980:2869884] CoreText note: Client requested name \".SFNS-BoldG4\", it will get Times-Roman rather than the intended font. All system UI font access should be through proper APIs such as CTFontCreateUIFontForLanguage() or +[NSFont systemFontOfSize:].\n",
      "2025-09-08 12:11:02.352 system_profiler[89980:2869884] CoreText note: Client requested name \".SFNS-Heavy\", it will get Times-Roman rather than the intended font. All system UI font access should be through proper APIs such as CTFontCreateUIFontForLanguage() or +[NSFont systemFontOfSize:].\n",
      "2025-09-08 12:11:02.359 system_profiler[89980:2869884] CoreText note: Client requested name \".SFNS-HeavyG1\", it will get Times-Roman rather than the intended font. All system UI font access should be through proper APIs such as CTFontCreateUIFontForLanguage() or +[NSFont systemFontOfSize:].\n",
      "2025-09-08 12:11:02.367 system_profiler[89980:2869884] CoreText note: Client requested name \".SFNS-HeavyG2\", it will get Times-Roman rather than the intended font. All system UI font access should be through proper APIs such as CTFontCreateUIFontForLanguage() or +[NSFont systemFontOfSize:].\n",
      "2025-09-08 12:11:02.374 system_profiler[89980:2869884] CoreText note: Client requested name \".SFNS-HeavyG3\", it will get Times-Roman rather than the intended font. All system UI font access should be through proper APIs such as CTFontCreateUIFontForLanguage() or +[NSFont systemFontOfSize:].\n",
      "2025-09-08 12:11:02.382 system_profiler[89980:2869884] CoreText note: Client requested name \".SFNS-HeavyG4\", it will get Times-Roman rather than the intended font. All system UI font access should be through proper APIs such as CTFontCreateUIFontForLanguage() or +[NSFont systemFontOfSize:].\n",
      "2025-09-08 12:11:02.389 system_profiler[89980:2869884] CoreText note: Client requested name \".SFNS-Black\", it will get Times-Roman rather than the intended font. All system UI font access should be through proper APIs such as CTFontCreateUIFontForLanguage() or +[NSFont systemFontOfSize:].\n",
      "2025-09-08 12:11:02.395 system_profiler[89980:2869884] CoreText note: Client requested name \".SFNS-SemiboldItalic\", it will get Times-Roman rather than the intended font. All system UI font access should be through proper APIs such as CTFontCreateUIFontForLanguage() or +[NSFont systemFontOfSize:].\n",
      "2025-09-08 12:11:02.402 system_profiler[89980:2869884] CoreText note: Client requested name \".SFNS-BoldItalic\", it will get Times-Roman rather than the intended font. All system UI font access should be through proper APIs such as CTFontCreateUIFontForLanguage() or +[NSFont systemFontOfSize:].\n",
      "2025-09-08 12:11:02.408 system_profiler[89980:2869884] CoreText note: Client requested name \".SFNS-HeavyItalic\", it will get Times-Roman rather than the intended font. All system UI font access should be through proper APIs such as CTFontCreateUIFontForLanguage() or +[NSFont systemFontOfSize:].\n",
      "2025-09-08 12:11:02.415 system_profiler[89980:2869884] CoreText note: Client requested name \".SFNS-BlackItalic\", it will get Times-Roman rather than the intended font. All system UI font access should be through proper APIs such as CTFontCreateUIFontForLanguage() or +[NSFont systemFontOfSize:].\n",
      "2025-09-08 12:11:02.426 system_profiler[89980:2869884] CoreText note: Client requested name \".SFNSDisplayCondensed-Regular\", it will get Times-Roman rather than the intended font. All system UI font access should be through proper APIs such as CTFontCreateUIFontForLanguage() or +[NSFont systemFontOfSize:].\n",
      "2025-09-08 12:11:02.435 system_profiler[89980:2869884] CoreText note: Client requested name \".SFNSDisplayCondensed-Medium\", it will get Times-Roman rather than the intended font. All system UI font access should be through proper APIs such as CTFontCreateUIFontForLanguage() or +[NSFont systemFontOfSize:].\n",
      "2025-09-08 12:11:02.442 system_profiler[89980:2869884] CoreText note: Client requested name \".SFNSDisplayCondensed-Light\", it will get Times-Roman rather than the intended font. All system UI font access should be through proper APIs such as CTFontCreateUIFontForLanguage() or +[NSFont systemFontOfSize:].\n",
      "2025-09-08 12:11:02.450 system_profiler[89980:2869884] CoreText note: Client requested name \".SFNSDisplayCondensed-Thin\", it will get Times-Roman rather than the intended font. All system UI font access should be through proper APIs such as CTFontCreateUIFontForLanguage() or +[NSFont systemFontOfSize:].\n",
      "2025-09-08 12:11:02.457 system_profiler[89980:2869884] CoreText note: Client requested name \".SFNSDisplayCondensed-Ultralight\", it will get Times-Roman rather than the intended font. All system UI font access should be through proper APIs such as CTFontCreateUIFontForLanguage() or +[NSFont systemFontOfSize:].\n",
      "2025-09-08 12:11:02.463 system_profiler[89980:2869884] CoreText note: Client requested name \".SFNSDisplayCondensed-Semibold\", it will get Times-Roman rather than the intended font. All system UI font access should be through proper APIs such as CTFontCreateUIFontForLanguage() or +[NSFont systemFontOfSize:].\n",
      "2025-09-08 12:11:02.471 system_profiler[89980:2869884] CoreText note: Client requested name \".SFNSDisplayCondensed-Bold\", it will get Times-Roman rather than the intended font. All system UI font access should be through proper APIs such as CTFontCreateUIFontForLanguage() or +[NSFont systemFontOfSize:].\n",
      "2025-09-08 12:11:02.478 system_profiler[89980:2869884] CoreText note: Client requested name \".SFNSDisplayCondensed-Heavy\", it will get Times-Roman rather than the intended font. All system UI font access should be through proper APIs such as CTFontCreateUIFontForLanguage() or +[NSFont systemFontOfSize:].\n",
      "2025-09-08 12:11:02.484 system_profiler[89980:2869884] CoreText note: Client requested name \".SFNSDisplayCondensed-Black\", it will get Times-Roman rather than the intended font. All system UI font access should be through proper APIs such as CTFontCreateUIFontForLanguage() or +[NSFont systemFontOfSize:].\n",
      "2025-09-08 12:11:02.488 system_profiler[89980:2869884] CoreText note: Client requested name \".SFNSMono-Regular\", it will get Times-Roman rather than the intended font. All system UI font access should be through proper APIs such as CTFontCreateUIFontForLanguage() or +[NSFont systemFontOfSize:].\n",
      "2025-09-08 12:11:02.493 system_profiler[89980:2869884] CoreText note: Client requested name \".SFNSMono-Medium\", it will get Times-Roman rather than the intended font. All system UI font access should be through proper APIs such as CTFontCreateUIFontForLanguage() or +[NSFont systemFontOfSize:].\n",
      "2025-09-08 12:11:02.498 system_profiler[89980:2869884] CoreText note: Client requested name \".SFNSMono-Light\", it will get Times-Roman rather than the intended font. All system UI font access should be through proper APIs such as CTFontCreateUIFontForLanguage() or +[NSFont systemFontOfSize:].\n",
      "2025-09-08 12:11:02.505 system_profiler[89980:2869884] CoreText note: Client requested name \".SFNSMono-RegularItalic\", it will get Times-Roman rather than the intended font. All system UI font access should be through proper APIs such as CTFontCreateUIFontForLanguage() or +[NSFont systemFontOfSize:].\n",
      "2025-09-08 12:11:02.509 system_profiler[89980:2869884] CoreText note: Client requested name \".SFNSMono-MediumItalic\", it will get Times-Roman rather than the intended font. All system UI font access should be through proper APIs such as CTFontCreateUIFontForLanguage() or +[NSFont systemFontOfSize:].\n",
      "2025-09-08 12:11:02.514 system_profiler[89980:2869884] CoreText note: Client requested name \".SFNSMono-LightItalic\", it will get Times-Roman rather than the intended font. All system UI font access should be through proper APIs such as CTFontCreateUIFontForLanguage() or +[NSFont systemFontOfSize:].\n",
      "2025-09-08 12:11:02.520 system_profiler[89980:2869884] CoreText note: Client requested name \".SFNSMono-Semibold\", it will get Times-Roman rather than the intended font. All system UI font access should be through proper APIs such as CTFontCreateUIFontForLanguage() or +[NSFont systemFontOfSize:].\n",
      "2025-09-08 12:11:02.524 system_profiler[89980:2869884] CoreText note: Client requested name \".SFNSMono-Bold\", it will get Times-Roman rather than the intended font. All system UI font access should be through proper APIs such as CTFontCreateUIFontForLanguage() or +[NSFont systemFontOfSize:].\n",
      "2025-09-08 12:11:02.529 system_profiler[89980:2869884] CoreText note: Client requested name \".SFNSMono-Heavy\", it will get Times-Roman rather than the intended font. All system UI font access should be through proper APIs such as CTFontCreateUIFontForLanguage() or +[NSFont systemFontOfSize:].\n",
      "2025-09-08 12:11:02.533 system_profiler[89980:2869884] CoreText note: Client requested name \".SFNSMono-SemiboldItalic\", it will get Times-Roman rather than the intended font. All system UI font access should be through proper APIs such as CTFontCreateUIFontForLanguage() or +[NSFont systemFontOfSize:].\n",
      "2025-09-08 12:11:02.538 system_profiler[89980:2869884] CoreText note: Client requested name \".SFNSMono-BoldItalic\", it will get Times-Roman rather than the intended font. All system UI font access should be through proper APIs such as CTFontCreateUIFontForLanguage() or +[NSFont systemFontOfSize:].\n",
      "2025-09-08 12:11:02.542 system_profiler[89980:2869884] CoreText note: Client requested name \".SFNSMono-HeavyItalic\", it will get Times-Roman rather than the intended font. All system UI font access should be through proper APIs such as CTFontCreateUIFontForLanguage() or +[NSFont systemFontOfSize:].\n",
      "2025-09-08 12:11:02.549 system_profiler[89980:2869884] CoreText note: Client requested name \".SFNSRounded-Regular\", it will get Times-Roman rather than the intended font. All system UI font access should be through proper APIs such as CTFontCreateUIFontForLanguage() or +[NSFont systemFontOfSize:].\n",
      "2025-09-08 12:11:02.556 system_profiler[89980:2869884] CoreText note: Client requested name \".SFNSRounded-RegularG1\", it will get Times-Roman rather than the intended font. All system UI font access should be through proper APIs such as CTFontCreateUIFontForLanguage() or +[NSFont systemFontOfSize:].\n",
      "2025-09-08 12:11:02.561 system_profiler[89980:2869884] CoreText note: Client requested name \".SFNSRounded-RegularG2\", it will get Times-Roman rather than the intended font. All system UI font access should be through proper APIs such as CTFontCreateUIFontForLanguage() or +[NSFont systemFontOfSize:].\n",
      "2025-09-08 12:11:02.567 system_profiler[89980:2869884] CoreText note: Client requested name \".SFNSRounded-RegularG3\", it will get Times-Roman rather than the intended font. All system UI font access should be through proper APIs such as CTFontCreateUIFontForLanguage() or +[NSFont systemFontOfSize:].\n",
      "2025-09-08 12:11:02.574 system_profiler[89980:2869884] CoreText note: Client requested name \".SFNSRounded-RegularG4\", it will get Times-Roman rather than the intended font. All system UI font access should be through proper APIs such as CTFontCreateUIFontForLanguage() or +[NSFont systemFontOfSize:].\n",
      "2025-09-08 12:11:02.579 system_profiler[89980:2869884] CoreText note: Client requested name \".SFNSRounded-Medium\", it will get Times-Roman rather than the intended font. All system UI font access should be through proper APIs such as CTFontCreateUIFontForLanguage() or +[NSFont systemFontOfSize:].\n",
      "2025-09-08 12:11:02.585 system_profiler[89980:2869884] CoreText note: Client requested name \".SFNSRounded-MediumG1\", it will get Times-Roman rather than the intended font. All system UI font access should be through proper APIs such as CTFontCreateUIFontForLanguage() or +[NSFont systemFontOfSize:].\n",
      "2025-09-08 12:11:02.590 system_profiler[89980:2869884] CoreText note: Client requested name \".SFNSRounded-MediumG2\", it will get Times-Roman rather than the intended font. All system UI font access should be through proper APIs such as CTFontCreateUIFontForLanguage() or +[NSFont systemFontOfSize:].\n",
      "2025-09-08 12:11:02.595 system_profiler[89980:2869884] CoreText note: Client requested name \".SFNSRounded-MediumG3\", it will get Times-Roman rather than the intended font. All system UI font access should be through proper APIs such as CTFontCreateUIFontForLanguage() or +[NSFont systemFontOfSize:].\n",
      "2025-09-08 12:11:02.601 system_profiler[89980:2869884] CoreText note: Client requested name \".SFNSRounded-MediumG4\", it will get Times-Roman rather than the intended font. All system UI font access should be through proper APIs such as CTFontCreateUIFontForLanguage() or +[NSFont systemFontOfSize:].\n",
      "2025-09-08 12:11:02.607 system_profiler[89980:2869884] CoreText note: Client requested name \".SFNSRounded-Light\", it will get Times-Roman rather than the intended font. All system UI font access should be through proper APIs such as CTFontCreateUIFontForLanguage() or +[NSFont systemFontOfSize:].\n",
      "2025-09-08 12:11:02.612 system_profiler[89980:2869884] CoreText note: Client requested name \".SFNSRounded-LightG1\", it will get Times-Roman rather than the intended font. All system UI font access should be through proper APIs such as CTFontCreateUIFontForLanguage() or +[NSFont systemFontOfSize:].\n",
      "2025-09-08 12:11:02.618 system_profiler[89980:2869884] CoreText note: Client requested name \".SFNSRounded-LightG2\", it will get Times-Roman rather than the intended font. All system UI font access should be through proper APIs such as CTFontCreateUIFontForLanguage() or +[NSFont systemFontOfSize:].\n",
      "2025-09-08 12:11:02.625 system_profiler[89980:2869884] CoreText note: Client requested name \".SFNSRounded-LightG3\", it will get Times-Roman rather than the intended font. All system UI font access should be through proper APIs such as CTFontCreateUIFontForLanguage() or +[NSFont systemFontOfSize:].\n",
      "2025-09-08 12:11:02.633 system_profiler[89980:2869884] CoreText note: Client requested name \".SFNSRounded-LightG4\", it will get Times-Roman rather than the intended font. All system UI font access should be through proper APIs such as CTFontCreateUIFontForLanguage() or +[NSFont systemFontOfSize:].\n",
      "2025-09-08 12:11:02.639 system_profiler[89980:2869884] CoreText note: Client requested name \".SFNSRounded-Thin\", it will get Times-Roman rather than the intended font. All system UI font access should be through proper APIs such as CTFontCreateUIFontForLanguage() or +[NSFont systemFontOfSize:].\n",
      "2025-09-08 12:11:02.645 system_profiler[89980:2869884] CoreText note: Client requested name \".SFNSRounded-ThinG1\", it will get Times-Roman rather than the intended font. All system UI font access should be through proper APIs such as CTFontCreateUIFontForLanguage() or +[NSFont systemFontOfSize:].\n",
      "2025-09-08 12:11:02.652 system_profiler[89980:2869884] CoreText note: Client requested name \".SFNSRounded-ThinG2\", it will get Times-Roman rather than the intended font. All system UI font access should be through proper APIs such as CTFontCreateUIFontForLanguage() or +[NSFont systemFontOfSize:].\n",
      "2025-09-08 12:11:02.658 system_profiler[89980:2869884] CoreText note: Client requested name \".SFNSRounded-ThinG3\", it will get Times-Roman rather than the intended font. All system UI font access should be through proper APIs such as CTFontCreateUIFontForLanguage() or +[NSFont systemFontOfSize:].\n",
      "2025-09-08 12:11:02.664 system_profiler[89980:2869884] CoreText note: Client requested name \".SFNSRounded-ThinG4\", it will get Times-Roman rather than the intended font. All system UI font access should be through proper APIs such as CTFontCreateUIFontForLanguage() or +[NSFont systemFontOfSize:].\n",
      "2025-09-08 12:11:02.670 system_profiler[89980:2869884] CoreText note: Client requested name \".SFNSRounded-Ultralight\", it will get Times-Roman rather than the intended font. All system UI font access should be through proper APIs such as CTFontCreateUIFontForLanguage() or +[NSFont systemFontOfSize:].\n",
      "2025-09-08 12:11:02.675 system_profiler[89980:2869884] CoreText note: Client requested name \".SFNSRounded-UltralightG1\", it will get Times-Roman rather than the intended font. All system UI font access should be through proper APIs such as CTFontCreateUIFontForLanguage() or +[NSFont systemFontOfSize:].\n",
      "2025-09-08 12:11:02.681 system_profiler[89980:2869884] CoreText note: Client requested name \".SFNSRounded-UltralightG2\", it will get Times-Roman rather than the intended font. All system UI font access should be through proper APIs such as CTFontCreateUIFontForLanguage() or +[NSFont systemFontOfSize:].\n",
      "2025-09-08 12:11:02.686 system_profiler[89980:2869884] CoreText note: Client requested name \".SFNSRounded-UltralightG3\", it will get Times-Roman rather than the intended font. All system UI font access should be through proper APIs such as CTFontCreateUIFontForLanguage() or +[NSFont systemFontOfSize:].\n",
      "2025-09-08 12:11:02.692 system_profiler[89980:2869884] CoreText note: Client requested name \".SFNSRounded-UltralightG4\", it will get Times-Roman rather than the intended font. All system UI font access should be through proper APIs such as CTFontCreateUIFontForLanguage() or +[NSFont systemFontOfSize:].\n",
      "2025-09-08 12:11:02.698 system_profiler[89980:2869884] CoreText note: Client requested name \".SFNSRounded-Ultrathin\", it will get Times-Roman rather than the intended font. All system UI font access should be through proper APIs such as CTFontCreateUIFontForLanguage() or +[NSFont systemFontOfSize:].\n",
      "2025-09-08 12:11:02.703 system_profiler[89980:2869884] CoreText note: Client requested name \".SFNSRounded-Semibold\", it will get Times-Roman rather than the intended font. All system UI font access should be through proper APIs such as CTFontCreateUIFontForLanguage() or +[NSFont systemFontOfSize:].\n",
      "2025-09-08 12:11:02.709 system_profiler[89980:2869884] CoreText note: Client requested name \".SFNSRounded-SemiboldG1\", it will get Times-Roman rather than the intended font. All system UI font access should be through proper APIs such as CTFontCreateUIFontForLanguage() or +[NSFont systemFontOfSize:].\n",
      "2025-09-08 12:11:02.715 system_profiler[89980:2869884] CoreText note: Client requested name \".SFNSRounded-SemiboldG2\", it will get Times-Roman rather than the intended font. All system UI font access should be through proper APIs such as CTFontCreateUIFontForLanguage() or +[NSFont systemFontOfSize:].\n",
      "2025-09-08 12:11:02.723 system_profiler[89980:2869884] CoreText note: Client requested name \".SFNSRounded-SemiboldG3\", it will get Times-Roman rather than the intended font. All system UI font access should be through proper APIs such as CTFontCreateUIFontForLanguage() or +[NSFont systemFontOfSize:].\n",
      "2025-09-08 12:11:02.728 system_profiler[89980:2869884] CoreText note: Client requested name \".SFNSRounded-SemiboldG4\", it will get Times-Roman rather than the intended font. All system UI font access should be through proper APIs such as CTFontCreateUIFontForLanguage() or +[NSFont systemFontOfSize:].\n",
      "2025-09-08 12:11:02.734 system_profiler[89980:2869884] CoreText note: Client requested name \".SFNSRounded-Bold\", it will get Times-Roman rather than the intended font. All system UI font access should be through proper APIs such as CTFontCreateUIFontForLanguage() or +[NSFont systemFontOfSize:].\n",
      "2025-09-08 12:11:02.740 system_profiler[89980:2869884] CoreText note: Client requested name \".SFNSRounded-BoldG1\", it will get Times-Roman rather than the intended font. All system UI font access should be through proper APIs such as CTFontCreateUIFontForLanguage() or +[NSFont systemFontOfSize:].\n",
      "2025-09-08 12:11:02.745 system_profiler[89980:2869884] CoreText note: Client requested name \".SFNSRounded-BoldG2\", it will get Times-Roman rather than the intended font. All system UI font access should be through proper APIs such as CTFontCreateUIFontForLanguage() or +[NSFont systemFontOfSize:].\n",
      "2025-09-08 12:11:02.752 system_profiler[89980:2869884] CoreText note: Client requested name \".SFNSRounded-BoldG3\", it will get Times-Roman rather than the intended font. All system UI font access should be through proper APIs such as CTFontCreateUIFontForLanguage() or +[NSFont systemFontOfSize:].\n",
      "2025-09-08 12:11:02.758 system_profiler[89980:2869884] CoreText note: Client requested name \".SFNSRounded-BoldG4\", it will get Times-Roman rather than the intended font. All system UI font access should be through proper APIs such as CTFontCreateUIFontForLanguage() or +[NSFont systemFontOfSize:].\n",
      "2025-09-08 12:11:02.763 system_profiler[89980:2869884] CoreText note: Client requested name \".SFNSRounded-Heavy\", it will get Times-Roman rather than the intended font. All system UI font access should be through proper APIs such as CTFontCreateUIFontForLanguage() or +[NSFont systemFontOfSize:].\n",
      "2025-09-08 12:11:02.769 system_profiler[89980:2869884] CoreText note: Client requested name \".SFNSRounded-HeavyG1\", it will get Times-Roman rather than the intended font. All system UI font access should be through proper APIs such as CTFontCreateUIFontForLanguage() or +[NSFont systemFontOfSize:].\n",
      "2025-09-08 12:11:02.775 system_profiler[89980:2869884] CoreText note: Client requested name \".SFNSRounded-HeavyG2\", it will get Times-Roman rather than the intended font. All system UI font access should be through proper APIs such as CTFontCreateUIFontForLanguage() or +[NSFont systemFontOfSize:].\n",
      "2025-09-08 12:11:02.781 system_profiler[89980:2869884] CoreText note: Client requested name \".SFNSRounded-HeavyG3\", it will get Times-Roman rather than the intended font. All system UI font access should be through proper APIs such as CTFontCreateUIFontForLanguage() or +[NSFont systemFontOfSize:].\n",
      "2025-09-08 12:11:02.786 system_profiler[89980:2869884] CoreText note: Client requested name \".SFNSRounded-HeavyG4\", it will get Times-Roman rather than the intended font. All system UI font access should be through proper APIs such as CTFontCreateUIFontForLanguage() or +[NSFont systemFontOfSize:].\n",
      "2025-09-08 12:11:02.792 system_profiler[89980:2869884] CoreText note: Client requested name \".SFNSRounded-UltrathinG1\", it will get Times-Roman rather than the intended font. All system UI font access should be through proper APIs such as CTFontCreateUIFontForLanguage() or +[NSFont systemFontOfSize:].\n",
      "2025-09-08 12:11:02.798 system_profiler[89980:2869884] CoreText note: Client requested name \".SFNSRounded-UltrathinG2\", it will get Times-Roman rather than the intended font. All system UI font access should be through proper APIs such as CTFontCreateUIFontForLanguage() or +[NSFont systemFontOfSize:].\n",
      "2025-09-08 12:11:02.803 system_profiler[89980:2869884] CoreText note: Client requested name \".SFNSRounded-UltrathinG3\", it will get Times-Roman rather than the intended font. All system UI font access should be through proper APIs such as CTFontCreateUIFontForLanguage() or +[NSFont systemFontOfSize:].\n",
      "2025-09-08 12:11:02.810 system_profiler[89980:2869884] CoreText note: Client requested name \".SFNSRounded-UltrathinG4\", it will get Times-Roman rather than the intended font. All system UI font access should be through proper APIs such as CTFontCreateUIFontForLanguage() or +[NSFont systemFontOfSize:].\n",
      "2025-09-08 12:11:02.816 system_profiler[89980:2869884] CoreText note: Client requested name \".SFNSRounded-Black\", it will get Times-Roman rather than the intended font. All system UI font access should be through proper APIs such as CTFontCreateUIFontForLanguage() or +[NSFont systemFontOfSize:].\n",
      "2025-09-08 12:11:02.825 system_profiler[89980:2869884] CoreText note: Client requested name \".SFNSTextCondensed-Regular\", it will get Times-Roman rather than the intended font. All system UI font access should be through proper APIs such as CTFontCreateUIFontForLanguage() or +[NSFont systemFontOfSize:].\n",
      "2025-09-08 12:11:02.834 system_profiler[89980:2869884] CoreText note: Client requested name \".SFNSTextCondensed-Medium\", it will get Times-Roman rather than the intended font. All system UI font access should be through proper APIs such as CTFontCreateUIFontForLanguage() or +[NSFont systemFontOfSize:].\n",
      "2025-09-08 12:11:02.841 system_profiler[89980:2869884] CoreText note: Client requested name \".SFNSTextCondensed-Light\", it will get Times-Roman rather than the intended font. All system UI font access should be through proper APIs such as CTFontCreateUIFontForLanguage() or +[NSFont systemFontOfSize:].\n",
      "2025-09-08 12:11:02.849 system_profiler[89980:2869884] CoreText note: Client requested name \".SFNSTextCondensed-Semibold\", it will get Times-Roman rather than the intended font. All system UI font access should be through proper APIs such as CTFontCreateUIFontForLanguage() or +[NSFont systemFontOfSize:].\n",
      "Matplotlib is building the font cache; this may take a moment.\n",
      "2025-09-08 12:11:02.856 system_profiler[89980:2869884] CoreText note: Client requested name \".SFNSTextCondensed-Bold\", it will get Times-Roman rather than the intended font. All system UI font access should be through proper APIs such as CTFontCreateUIFontForLanguage() or +[NSFont systemFontOfSize:].\n",
      "2025-09-08 12:11:02.862 system_profiler[89980:2869884] CoreText note: Client requested name \".SFNSTextCondensed-Heavy\", it will get Times-Roman rather than the intended font. All system UI font access should be through proper APIs such as CTFontCreateUIFontForLanguage() or +[NSFont systemFontOfSize:].\n"
     ]
    },
    {
     "name": "stdout",
     "output_type": "stream",
     "text": [
      "5.428571428571429\n"
     ]
    }
   ],
   "source": [
    "# This cell is a code cell. But adding \"#\" at the start of a line makes it a comment.\n",
    "# Comments are ignored by Python, but are useful for humans to understand the code.\n",
    "\n",
    "# Notes about nicknames:\n",
    "# - Import \"statistics\", but give it the nickname \"stats\"\n",
    "# - \"matplotlib.pyplot\" is a long name. Let's call it \"plt\"\n",
    "# - Similarly, let's call \"pandas\" as \"pd\"\n",
    "# - Try adding your own nickname!\n",
    "# - To avoid errors, be consistent with your nicknames\n",
    "\n",
    "import statistics as stats\n",
    "import matplotlib.pyplot as plt\n",
    "import pandas as pd\n",
    "\n",
    "\n",
    "print(stats.mean([1, 7, 3, 5, 9, 1, 12]))"
   ]
  },
  {
   "cell_type": "code",
   "execution_count": 8,
   "metadata": {},
   "outputs": [
    {
     "name": "stdout",
     "output_type": "stream",
     "text": [
      "5.428571428571429\n"
     ]
    }
   ],
   "source": [
    "print(stats.mean([1, 7, 3, 5, 9, 1, 12]))"
   ]
  },
  {
   "attachments": {},
   "cell_type": "markdown",
   "metadata": {},
   "source": [
    "<font size=\"5\"> \n",
    "\n",
    "(e) Open datasets\n",
    "\n",
    "Run the command \"read_csv\" from the library <br>\n",
    "\"pandas\" (nicknamed \"pd\"). \n"
   ]
  },
  {
   "cell_type": "code",
   "execution_count": null,
   "metadata": {},
   "outputs": [],
   "source": [
    "\n",
    "# The subcommand \"read_csv()\" opens the file in parenthesis.\n",
    "# We use the \"=\" symbol to store the dataset in the working environment under the name \"carfeatures\"\n",
    "\n",
    "carfeatures = pd.read_csv('data/features.csv')"
   ]
  },
  {
   "attachments": {},
   "cell_type": "markdown",
   "metadata": {},
   "source": [
    "<font size=\"5\"> \n",
    "\n",
    "You can open the datasets in the current environment\n",
    "- Click on the \"Jupyter Variables\" button in the top bar to open a panel\n",
    "\n",
    "<img src=\"figures/topbar.png\" alt=\"drawing\" width=\"650\"/>\n",
    "\n",
    "- Click on the icon to the left of \"carfeatures\" in the \"Jupyter: Variables\" tab\n",
    "\n",
    "<img src=\"figures/jupyter_var.png\" alt=\"drawing\" width=\"700\"/>\n",
    "\n",
    "DataWrangler will open a window showing the data\n",
    "- Each row is an observation (a car)\n",
    "- Each column is the value of a variable (a feature of that car)"
   ]
  },
  {
   "attachments": {},
   "cell_type": "markdown",
   "metadata": {},
   "source": [
    "***"
   ]
  },
  {
   "attachments": {},
   "cell_type": "markdown",
   "metadata": {},
   "source": [
    "\n",
    "# <span style=\"color:darkblue\"> STEP 2: Run Analyses </span>\n",
    "\n",
    "<font size=\"5\"> \n",
    "\n",
    "Output data for all the columns"
   ]
  },
  {
   "cell_type": "code",
   "execution_count": null,
   "metadata": {},
   "outputs": [],
   "source": [
    "# Entering the name of a dataframe produces an output with some rows\n",
    "\n",
    "carfeatures"
   ]
  },
  {
   "attachments": {},
   "cell_type": "markdown",
   "metadata": {},
   "source": [
    "<font size=\"5\"> \n",
    "\n",
    "Output data for a single column 'cylinders'"
   ]
  },
  {
   "cell_type": "code",
   "execution_count": null,
   "metadata": {},
   "outputs": [],
   "source": [
    "# We use square brackets [...] to subset information from data \n",
    "# Text/strings have to be written in quotation marks\n",
    "# This command extracts the column 'cylinders'\n",
    "\n",
    "carfeatures[\"cylinders\"]\n"
   ]
  },
  {
   "attachments": {},
   "cell_type": "markdown",
   "metadata": {},
   "source": [
    "<font size=\"5\"> \n",
    "\n",
    "Example: Compute a frequency table"
   ]
  },
  {
   "cell_type": "code",
   "execution_count": null,
   "metadata": {},
   "outputs": [],
   "source": [
    "# crosstab counts how many rows fall into categories\n",
    "# \"index\" is the category\n",
    "# \"columns\" is a custom title\n",
    "\n",
    "table = pd.crosstab(index = carfeatures['cylinders'],columns = \"count\")\n",
    "table\n"
   ]
  },
  {
   "cell_type": "markdown",
   "metadata": {},
   "source": [
    "### The \"help\" keyword can be used to learn more about a command"
   ]
  },
  {
   "cell_type": "code",
   "execution_count": null,
   "metadata": {},
   "outputs": [],
   "source": [
    "help (pd.crosstab)"
   ]
  },
  {
   "cell_type": "code",
   "execution_count": null,
   "metadata": {},
   "outputs": [],
   "source": [
    "# It looks like the first two arguments are \"index\" and \"columns\", which are required. The rest are optional.\n",
    "# So we can also write the command like this:\n",
    "\n",
    "table = pd.crosstab(carfeatures['cylinders'], \"count\")\n",
    "table\n",
    "\n"
   ]
  },
  {
   "cell_type": "markdown",
   "metadata": {},
   "source": [
    "### We can also cross-tabulate between two columns of carfeatures:"
   ]
  },
  {
   "cell_type": "code",
   "execution_count": null,
   "metadata": {},
   "outputs": [],
   "source": [
    "table_2 = pd.crosstab(index = carfeatures['cylinders'],columns = carfeatures['mpg'])\n",
    "table_2"
   ]
  },
  {
   "attachments": {},
   "cell_type": "markdown",
   "metadata": {},
   "source": [
    "<font size=\"5\"> \n",
    "\n",
    "Example: Compute basic summary statistics for all variables"
   ]
  },
  {
   "cell_type": "code",
   "execution_count": null,
   "metadata": {},
   "outputs": [],
   "source": [
    "# \"describe\" computes the count, mean, std, min, 25% quantile, 50%, 75%, max\n",
    "# automatically excludes variables with text values\n",
    "# otherwise includes all numeric variables\n",
    "\n",
    "carfeatures.describe()"
   ]
  },
  {
   "attachments": {},
   "cell_type": "markdown",
   "metadata": {},
   "source": [
    "<font size=\"5\"> \n",
    "\n",
    "Example: Display a scatter plot "
   ]
  },
  {
   "cell_type": "code",
   "execution_count": null,
   "metadata": {},
   "outputs": [],
   "source": [
    "plt.scatter(x = carfeatures['weight'], y = carfeatures['mpg'])\n",
    "plt.show()"
   ]
  },
  {
   "cell_type": "markdown",
   "metadata": {},
   "source": [
    "### Q: Is this a good plot?"
   ]
  },
  {
   "cell_type": "code",
   "execution_count": null,
   "metadata": {},
   "outputs": [],
   "source": [
    "# Try another scatter plot with x = \"acceleration\"\n",
    "\n",
    "\n"
   ]
  },
  {
   "attachments": {},
   "cell_type": "markdown",
   "metadata": {},
   "source": [
    "\n",
    "\n",
    "# <span style=\"color:darkblue\"> Pro Tips: How to be a great student for QTM 151?\n",
    " </span>\n",
    "\n",
    "<font size=\"5\"> \n",
    "\n",
    "- Ask clarifying questions, e.g.\n",
    "\n",
    "    -  Can you explain what this command is doing? --> **I don't mind repeating an explanation!**\n",
    "    -  What are the arguments of this function?\n",
    "    -  What is the output?\n",
    "    -  I get an error saying .... (be explicit), what could be the issue?"
   ]
  },
  {
   "attachments": {},
   "cell_type": "markdown",
   "metadata": {},
   "source": [
    "<font size=\"5\"> \n",
    "\n",
    "- Remember that good coders ...\n",
    "\n",
    "    -  build up their toolkit of commands over time\n",
    "    -  understand that errors are normal the first time you run a command\n",
    "    -  **learn to use online websites to interpret errors!!**, https://stackoverflow.com/questions/tagged/python\n",
    "    -  search help pages to find proper syntax, e.g. https://www.w3schools.com/python/\n"
   ]
  },
  {
   "attachments": {},
   "cell_type": "markdown",
   "metadata": {},
   "source": [
    "<font size=\"5\"> \n",
    "\n",
    "- Experiment\n",
    "\n",
    "    -  If we do analyses for variable \"A\", try it for \"B\"\n",
    "    -  Search online how to do something extra, e.g. change the color of a scatter plot\n",
    "    -  Try running the syntax deliberately wrong: helps you get more familiar with error messages\n",
    "    -  Think long term: Figuring out a puzzle today, means that you can use the code for the next time!"
   ]
  },
  {
   "attachments": {},
   "cell_type": "markdown",
   "metadata": {},
   "source": [
    "<font size=\"5\"> \n",
    "\n",
    "- Come to office hours\n",
    "\n",
    "    -  Best time for a one-on-one!\n",
    "    -  Good place to ask about topics not covered in the lecture\n"
   ]
  }
 ],
 "metadata": {
  "kernelspec": {
   "display_name": "base",
   "language": "python",
   "name": "python3"
  },
  "language_info": {
   "codemirror_mode": {
    "name": "ipython",
    "version": 3
   },
   "file_extension": ".py",
   "mimetype": "text/x-python",
   "name": "python",
   "nbconvert_exporter": "python",
   "pygments_lexer": "ipython3",
   "version": "3.13.5"
  },
  "orig_nbformat": 4
 },
 "nbformat": 4,
 "nbformat_minor": 2
}
